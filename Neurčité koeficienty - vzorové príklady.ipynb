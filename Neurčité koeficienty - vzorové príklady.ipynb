{
 "cells": [
  {
   "cell_type": "markdown",
   "metadata": {},
   "source": [
    "# Teoretický základ\n",
    "## Pravá strana s polynómom a exponenciálnou funkciou\n",
    "Ak pravá strana je\n",
    "$$ f(t) = e^{\\alpha t} P_m(t),\n",
    "\\mbox{ kde } P_m\\ \\mbox{ je polynóm stupňa } m,$$\n",
    "<p/>\n",
    "partikulárne riešenie $y_p(t)$ hľadáme v tvare <p/>\n",
    "$$y_{p}(t) = e^{\\alpha t} R_m(t)\\, t^k\\ \\mbox{ kde } \\ R_m(t) \n",
    "\\ \\mbox{ je polynóm stupňa } m,$$\n",
    "<p/>\n",
    "** $k$ je násobnosť čísla $\\alpha$ ako koreňa charakteristickej rovnice. **\n",
    "<p/>\n",
    "\n",
    "\n",
    "## Pravá strana najkomplikovanejšia, sinusy a kosinusy\n",
    "Ak pravá strana je\n",
    "$$ f(t) = e^{\\alpha t}\\left({ P_m(t) \\cos \\beta t + Q_n(t) \\sin \\beta t}\\right),\n",
    "\\mbox{ kde } P_m, Q_n \\mbox{ sú polynómy stupňov } m \\mbox{ a } n,$$\n",
    "zoberieme inú pravú stranu, v komplexnom tvare:<p/>\n",
    "$$ \\tilde{f}(t) = e^{(\\alpha + i \\beta) t} (P_m(t) - i Q_n(t))\\ \n",
    "\\mbox{ (je to predchádzajúci prípad). }$$<p/>\n",
    "Presvedčte sa o tom, že __pôvodná pravá strana je reálnou časťou tej zmenenej komplexnej.__<br/>\n",
    "Partikulárne riešenie $\\tilde{y}_p(t)$ rovnice so zmenenou pravou stranou $\\tilde{f}(t)$ hľadáme v tvare <p/>\n",
    "$$ \\tilde{y}_{p}(t) = e^{(\\alpha + i \\beta) t} R_s(t)\\, t^k\\ \\mbox{ kde } \\ R_s(t) \n",
    "\\ \\mbox{ je polynóm stupňa } \\ s = \\max(n,m),$$\n",
    "<p/>\n",
    "** $k$ je násobnosť čísla $\\alpha + i \\beta$ ako koreňa charakteristickej rovnice. **\n",
    "<p/>\n",
    "Partikulárne riešenie $y_p(t)$ rovnice s pôvodnou  pravou stranou $f(t)$ nájdeme ako __reálnu časť riešenia $\\tilde{y}_{p}(t) $.__"
   ]
  },
  {
   "cell_type": "code",
   "execution_count": 1,
   "metadata": {
    "collapsed": false
   },
   "outputs": [],
   "source": [
    "# Túto bunku treba vždy vykonať najskôr, cez Ctrl-Enter a potom podobne tie dole\n",
    "\n",
    "from sympy import var, init_printing, latex, diff, sin, cos, exp, Function, I, roots\n",
    "from sympy import expand, collect, solve, factor, symbols\n",
    "from neurcite import formulacia, riesenie, skuska, nas_kor, vypis_kor, polycoeffs\n",
    "from IPython.display import HTML\n",
    "init_printing()\n",
    "t=var('t',real=True)\n",
    "y=Function('y')"
   ]
  },
  {
   "cell_type": "markdown",
   "metadata": {},
   "source": [
    "## Vzorový príklad, pravá strana s polynómom a exponenciálou\n",
    "Riešme rovnicu $\\ a_2 y'' + a_1 y' + a_0  y = e^{\\alpha t} P_m(t).$\n",
    "<p/>\n",
    "Môžeme meniť koeficienty rovnice (čísla $a_2, a_1, a_0$) a aj pravú stranu \n",
    "teda číslo $\\alpha$ a koeficienty polynómu $P_m$. <br/>\n",
    "Funguje to aj v prípade $k>0$, tj. keď $\\alpha$ je medzi koreňmi charakteristickej rovnice."
   ]
  },
  {
   "cell_type": "code",
   "execution_count": 2,
   "metadata": {
    "collapsed": false
   },
   "outputs": [
    {
     "data": {
      "image/png": "[encoded data removed]",
      "text/latex": [
       "$$\\left(t^{3} - t^{2} - 4 t + 3\\right) e^{- 2 t}$$"
      ],
      "text/plain": [
       "⎛ 3    2          ⎞  -2⋅t\n",
       "⎝t  - t  - 4⋅t + 3⎠⋅ℯ    "
      ]
     },
     "execution_count": 2,
     "metadata": {},
     "output_type": "execute_result"
    }
   ],
   "source": [
    "a2,a1,a0 = 1,4,5\n",
    "al = -2\n",
    "Pmc = [1,-1,-4,3]      # len toto treba zadat, ostatne sa dopocita\n",
    "m = len(Pmc)           # pocet koeficientov\n",
    "Pm = sum([Pmc[m-1-i]*t**i for i in range(m)])\n",
    "f = exp(al*t)*Pm\n",
    "f # vypis pravej strany"
   ]
  },
  {
   "cell_type": "code",
   "execution_count": 3,
   "metadata": {
    "collapsed": false
   },
   "outputs": [],
   "source": [
    "# vypocet k a korenov char.rovnice\n",
    "drc = [a2,a1,a0]\n",
    "k = nas_kor(al, drc)\n",
    "kor = vypis_kor(drc)"
   ]
  },
  {
   "cell_type": "markdown",
   "metadata": {
    "variables": {
     " HTML(kor) ": "-2 + i, -2 - i",
     " HTML(latex(al)) ": "-2",
     " HTML(latex(k)) ": "0"
    }
   },
   "source": [
    "Máme $k = $ {{ HTML(latex(k)) }}, pretože korene char. rovnice sú {{ HTML(kor) }} a \n",
    "$\\alpha = $ {{ HTML(latex(al)) }}. \n",
    "<br/>Preto tvar partikulárneho riesenia je:"
   ]
  },
  {
   "cell_type": "code",
   "execution_count": 4,
   "metadata": {
    "collapsed": false
   },
   "outputs": [
    {
     "data": {
      "image/png": "[encoded data removed]",
      "text/latex": [
       "$$\\left(r_{0} + r_{1} t + r_{2} t^{2} + r_{3} t^{3}\\right) e^{- 2 t}$$"
      ],
      "text/plain": [
       "⎛                2       3⎞  -2⋅t\n",
       "⎝r₀ + r₁⋅t + r₂⋅t  + r₃⋅t ⎠⋅ℯ    "
      ]
     },
     "execution_count": 4,
     "metadata": {},
     "output_type": "execute_result"
    }
   ],
   "source": [
    "Rc = list(symbols(\"r:%d\" %m))\n",
    "yp = (t**k)*exp(al*t)*sum([Rc[i]*t**i for i in range(m)])\n",
    "yp"
   ]
  },
  {
   "cell_type": "markdown",
   "metadata": {
    "variables": {
     " HTML(formulacia(drc,al,Pmc)) ": "$y''(t)+4 y'(t) +5 y(t) = e^{-2 t} (t^{3} - t^{2} - 4 t + 3).$"
    }
   },
   "source": [
    "Chceme teda riešiť rovnicu {{ HTML(formulacia(drc,al,Pmc)) }}\n",
    "Dosadíme $y_p$ do ľavej strany a vypíšeme si, čo vznikne:"
   ]
  },
  {
   "cell_type": "code",
   "execution_count": 5,
   "metadata": {
    "collapsed": false
   },
   "outputs": [
    {
     "data": {
      "image/png": "[encoded data removed]",
      "text/latex": [
       "$$4 \\left(r_{1} + 2 r_{2} t + 3 r_{3} t^{2}\\right) e^{- 2 t} - 3 \\left(r_{0} + r_{1} t + r_{2} t^{2} + r_{3} t^{3}\\right) e^{- 2 t} + 2 \\left(2 r_{0} + 2 r_{1} t - 2 r_{1} + 2 r_{2} t^{2} - 4 r_{2} t + r_{2} + 2 r_{3} t^{3} - 6 r_{3} t^{2} + 3 r_{3} t\\right) e^{- 2 t}$$"
      ],
      "text/plain": [
       "  ⎛                    2⎞  -2⋅t     ⎛                2       3⎞  -2⋅t     ⎛   \n",
       "4⋅⎝r₁ + 2⋅r₂⋅t + 3⋅r₃⋅t ⎠⋅ℯ     - 3⋅⎝r₀ + r₁⋅t + r₂⋅t  + r₃⋅t ⎠⋅ℯ     + 2⋅⎝2⋅r\n",
       "\n",
       "                          2                       3         2         ⎞  -2⋅t\n",
       "₀ + 2⋅r₁⋅t - 2⋅r₁ + 2⋅r₂⋅t  - 4⋅r₂⋅t + r₂ + 2⋅r₃⋅t  - 6⋅r₃⋅t  + 3⋅r₃⋅t⎠⋅ℯ    "
      ]
     },
     "execution_count": 5,
     "metadata": {},
     "output_type": "execute_result"
    }
   ],
   "source": [
    "LS = a2*diff(yp,t,2) + a1*diff(yp,t) + a0*yp\n",
    "LS"
   ]
  },
  {
   "cell_type": "markdown",
   "metadata": {},
   "source": [
    "Necháme roznásobiť (expand), potom dáme spolu (collect) výrazy s rovnakými mocninami $t$.<br/> Pokrátime exponenciálou, dostaneme len polynóm. Skontrolujte ručne!"
   ]
  },
  {
   "cell_type": "code",
   "execution_count": 6,
   "metadata": {
    "collapsed": false
   },
   "outputs": [
    {
     "data": {
      "image/png": "[encoded data removed]",
      "text/latex": [
       "$$r_{0} + r_{2} t^{2} + 2 r_{2} + r_{3} t^{3} + t \\left(r_{1} + 6 r_{3}\\right)$$"
      ],
      "text/plain": [
       "         2              3                \n",
       "r₀ + r₂⋅t  + 2⋅r₂ + r₃⋅t  + t⋅(r₁ + 6⋅r₃)"
      ]
     },
     "execution_count": 6,
     "metadata": {},
     "output_type": "execute_result"
    }
   ],
   "source": [
    "mocniny = [t**i for i in range(1,m)]\n",
    "LS = expand(LS/exp(al*t))\n",
    "LS = collect(LS,mocniny)\n",
    "LS"
   ]
  },
  {
   "cell_type": "markdown",
   "metadata": {},
   "source": [
    "Zistime koeficienty pri mocninách $t$ na ľavej strane a porovnáme s koeficientami pravej strany."
   ]
  },
  {
   "cell_type": "code",
   "execution_count": 7,
   "metadata": {
    "collapsed": false
   },
   "outputs": [
    {
     "data": {
      "image/png": "[encoded data removed]",
      "text/latex": [
       "$$\\left ( \\left [ r_{0} + 2 r_{2}, \\quad r_{1} + 6 r_{3}, \\quad r_{2}, \\quad r_{3}\\right ], \\quad \\left [ 3, \\quad -4, \\quad -1, \\quad 1\\right ]\\right )$$"
      ],
      "text/plain": [
       "([r₀ + 2⋅r₂, r₁ + 6⋅r₃, r₂, r₃], [3, -4, -1, 1])"
      ]
     },
     "execution_count": 7,
     "metadata": {},
     "output_type": "execute_result"
    }
   ],
   "source": [
    "c_lava = [LS.subs(t,0)] + [LS.coeff(ti) for ti in mocniny] \n",
    "c_prava = Pmc[::-1]   # teraz od najnizej mocniny treba\n",
    "c_lava,c_prava"
   ]
  },
  {
   "cell_type": "code",
   "execution_count": 8,
   "metadata": {
    "collapsed": false
   },
   "outputs": [],
   "source": [
    "rov = [0]*m\n",
    "for i in range(m):\n",
    "   rov[i] = r\"$%s = %s$\" %(latex(c_lava[i]),latex(c_prava[i]))\n",
    "rowstr = '<br/>'.join(rov)"
   ]
  },
  {
   "cell_type": "markdown",
   "metadata": {},
   "source": [
    "Dostávame takéto rovnice:"
   ]
  },
  {
   "cell_type": "markdown",
   "metadata": {
    "variables": {
     " HTML(rowstr) ": "$r_{0} + 2 r_{2} = 3$<br/>$r_{1} + 6 r_{3} = -4$<br/>$r_{2} = -1$<br/>$r_{3} = 1$"
    }
   },
   "source": [
    "{{ HTML(rowstr) }}"
   ]
  },
  {
   "cell_type": "markdown",
   "metadata": {},
   "source": [
    "Vyriešime ich cez funkciu ```solve``` ktorej sa podhodí zoznam rovníc (v tvare, že niečo sa rovná nule) a zoznam premenných, podľa ktorých to chceme riešiť."
   ]
  },
  {
   "cell_type": "code",
   "execution_count": 9,
   "metadata": {
    "collapsed": false
   },
   "outputs": [
    {
     "data": {
      "image/png": "[encoded data removed]",
      "text/latex": [
       "$$\\left \\{ r_{0} : 5, \\quad r_{1} : -10, \\quad r_{2} : -1, \\quad r_{3} : 1\\right \\}$$"
      ],
      "text/plain": [
       "{r₀: 5, r₁: -10, r₂: -1, r₃: 1}"
      ]
     },
     "execution_count": 9,
     "metadata": {},
     "output_type": "execute_result"
    }
   ],
   "source": [
    "r_vypoc = solve([c_lava[i] - c_prava[i] for i in range(m)],Rc)\n",
    "r_vypoc"
   ]
  },
  {
   "cell_type": "markdown",
   "metadata": {},
   "source": [
    "Teraz za každý koeficient dosadíme jeho vypočítanú hodnotu (funkcia ```subs```) a vypíšeme $y_p$.\n",
    "Výpočet u konca."
   ]
  },
  {
   "cell_type": "code",
   "execution_count": 10,
   "metadata": {
    "collapsed": false
   },
   "outputs": [
    {
     "data": {
      "image/png": "[encoded data removed]",
      "text/latex": [
       "$$\\left(t^{3} - t^{2} - 10 t + 5\\right) e^{- 2 t}$$"
      ],
      "text/plain": [
       "⎛ 3    2           ⎞  -2⋅t\n",
       "⎝t  - t  - 10⋅t + 5⎠⋅ℯ    "
      ]
     },
     "execution_count": 10,
     "metadata": {},
     "output_type": "execute_result"
    }
   ],
   "source": [
    "for ra in r_vypoc:\n",
    "    yp = yp.subs(ra,r_vypoc[ra])\n",
    "yp    "
   ]
  },
  {
   "cell_type": "markdown",
   "metadata": {},
   "source": [
    "Patrilo by sa skúšku urobiť, takže tak:"
   ]
  },
  {
   "cell_type": "code",
   "execution_count": 11,
   "metadata": {
    "collapsed": false
   },
   "outputs": [
    {
     "data": {
      "image/png": "[encoded data removed]",
      "text/latex": [
       "$$\\left(t^{3} - t^{2} - 4 t + 3\\right) e^{- 2 t}$$"
      ],
      "text/plain": [
       "⎛ 3    2          ⎞  -2⋅t\n",
       "⎝t  - t  - 4⋅t + 3⎠⋅ℯ    "
      ]
     },
     "execution_count": 11,
     "metadata": {},
     "output_type": "execute_result"
    }
   ],
   "source": [
    "LS = skuska(drc,yp)\n",
    "LS"
   ]
  },
  {
   "cell_type": "code",
   "execution_count": 12,
   "metadata": {
    "collapsed": false
   },
   "outputs": [
    {
     "data": {
      "text/plain": [
       "True"
      ]
     },
     "execution_count": 12,
     "metadata": {},
     "output_type": "execute_result"
    }
   ],
   "source": [
    "# Či ľavá a pravá strana sa rovnajú; ak True, je to správne\n",
    "LS == f"
   ]
  },
  {
   "cell_type": "markdown",
   "metadata": {},
   "source": [
    "## Vzorový príklad, pravá strana so sinusmi a kosinusmi\n",
    "Riešme rovnicu $\\ a_2 y'' + a_1 y' + a_0  y = k_1 \\cos \\omega t + k_2 \\sin \\omega t.$\n",
    "<p/>\n",
    "Môžeme meniť koeficienty rovnice (čísla $a_2, a_1, a_0$) a aj pravej strany \n",
    "(čísla $\\omega, k_1, k_2$).  "
   ]
  },
  {
   "cell_type": "code",
   "execution_count": 13,
   "metadata": {
    "collapsed": false
   },
   "outputs": [
    {
     "data": {
      "image/png": "[encoded data removed]",
      "text/latex": [
       "$$2 \\sin{\\left (2 t \\right )} - 3 \\cos{\\left (2 t \\right )}$$"
      ],
      "text/plain": [
       "2⋅sin(2⋅t) - 3⋅cos(2⋅t)"
      ]
     },
     "execution_count": 13,
     "metadata": {},
     "output_type": "execute_result"
    }
   ],
   "source": [
    "a2,a1,a0 = 1,0,4\n",
    "omega = 2\n",
    "k1,k2 = -3,2\n",
    "f = k1*cos(omega*t) + k2*sin(omega*t)\n",
    "f   # vypis pravej strany"
   ]
  },
  {
   "cell_type": "markdown",
   "metadata": {},
   "source": [
    "## 1. Riešenie metódou neurčitých koeficientov,  bez prechodu ku komplexnej pravej strane\n",
    "Tvar partikulárneho riešenia $y_p$:"
   ]
  },
  {
   "cell_type": "code",
   "execution_count": 14,
   "metadata": {
    "collapsed": true
   },
   "outputs": [],
   "source": [
    "a,b = var(\"a b\")\n",
    "k = 1             # prečo?\n",
    "yp = (t**k)*(a*cos(omega*t) + b*sin(omega*t))"
   ]
  },
  {
   "cell_type": "markdown",
   "metadata": {
    "variables": {
     " HTML(formulacia([a2,a1,a0],0,[k1],2,[k2])) ": "$y''(t) +4 y(t) = \\left({(-3) \\cos 2 t + (2) \\sin 2 t}\\right).$"
    }
   },
   "source": [
    "Zrozumiteľne napísané, chceme riešiť rovnicu {{ HTML(formulacia([a2,a1,a0],0,[k1],2,[k2])) }}<p/>\n",
    "Dosadíme $y_p$ do ľavej strany a vypíšeme si, čo vznikne:"
   ]
  },
  {
   "cell_type": "code",
   "execution_count": 15,
   "metadata": {
    "collapsed": false
   },
   "outputs": [
    {
     "data": {
      "image/png": "[encoded data removed]",
      "text/latex": [
       "$$4 t \\left(a \\cos{\\left (2 t \\right )} + b \\sin{\\left (2 t \\right )}\\right) + 4 \\left(- a \\sin{\\left (2 t \\right )} + b \\cos{\\left (2 t \\right )} - t \\left(a \\cos{\\left (2 t \\right )} + b \\sin{\\left (2 t \\right )}\\right)\\right)$$"
      ],
      "text/plain": [
       "4⋅t⋅(a⋅cos(2⋅t) + b⋅sin(2⋅t)) + 4⋅(-a⋅sin(2⋅t) + b⋅cos(2⋅t) - t⋅(a⋅cos(2⋅t) + \n",
       "b⋅sin(2⋅t)))"
      ]
     },
     "execution_count": 15,
     "metadata": {},
     "output_type": "execute_result"
    }
   ],
   "source": [
    "LS = a2*diff(yp,t,2) + a1*diff(yp,t) + a0*yp\n",
    "LS"
   ]
  },
  {
   "cell_type": "markdown",
   "metadata": {},
   "source": [
    "Necháme roznásobiť (```expand```), potom dáme spolu (```collect```) výrazy so $\\sin \\omega t$ a $\\cos \\omega t$. Skontrolujte ručne!"
   ]
  },
  {
   "cell_type": "code",
   "execution_count": 16,
   "metadata": {
    "collapsed": false
   },
   "outputs": [
    {
     "data": {
      "image/png": "[encoded data removed]",
      "text/latex": [
       "$$- 4 a \\sin{\\left (2 t \\right )} + 4 b \\cos{\\left (2 t \\right )}$$"
      ],
      "text/plain": [
       "-4⋅a⋅sin(2⋅t) + 4⋅b⋅cos(2⋅t)"
      ]
     },
     "execution_count": 16,
     "metadata": {},
     "output_type": "execute_result"
    }
   ],
   "source": [
    "LS = expand(LS) \n",
    "LS = collect(LS,[cos(omega*t),sin(omega*t)])\n",
    "LS"
   ]
  },
  {
   "cell_type": "markdown",
   "metadata": {},
   "source": [
    "Zistíme koeficienty pri $\\cos \\omega t, \\sin \\omega t$ na ľavej i pravej strane"
   ]
  },
  {
   "cell_type": "code",
   "execution_count": 17,
   "metadata": {
    "collapsed": false
   },
   "outputs": [],
   "source": [
    "csl, ssl = LS.coeff(sin(omega*t)),LS.coeff(cos(omega*t))\n",
    "# Podobne s pravou stranou\n",
    "PS = collect(f,[sin(omega*t),cos(omega*t)])\n",
    "csp, ssp = PS.coeff(sin(omega*t)),PS.coeff(cos(omega*t))\n",
    "\n",
    "rovnica1 = r\"$%s = %s$\" %(latex(csl),latex(csp))\n",
    "rovnica2 = r\"$%s = %s$\" %(latex(ssl),latex(ssp))"
   ]
  },
  {
   "cell_type": "markdown",
   "metadata": {
    "variables": {
     " rovnica1 ": "$- 4 a = 2$",
     " rovnica2 ": "$4 b = -3$"
    }
   },
   "source": [
    "Porovnaním koeficientov pri rovnakých výrazoch dostaneme rovnice: <br/>\n",
    "Porovnanie koeficientov pri $\\sin t$ na ľavej a pravej strane: {{ rovnica1 }}\n",
    "<br/>\n",
    "Porovnanie koeficientov pri $\\cos t$ na ľavej a pravej strane: {{ rovnica2 }}\n",
    "<p/>\n",
    "Vyriešime sústavu, že koeficienty pri rovnakých výrazoch na pravej a ľavej strane sa musia rovnať."
   ]
  },
  {
   "cell_type": "code",
   "execution_count": 18,
   "metadata": {
    "collapsed": false,
    "variables": {
     "latex(DR)": "y{\\left (t \\right )} - 4 \\frac{d}{d t} y{\\left (t \\right )} + 4 \\frac{d^{2}}{d t^{2}}  y{\\left (t \\right )}"
    }
   },
   "outputs": [
    {
     "data": {
      "image/png": "[encoded data removed]",
      "text/latex": [
       "$$\\left \\{ a : - \\frac{1}{2}, \\quad b : - \\frac{3}{4}\\right \\}$$"
      ],
      "text/plain": [
       "{a: -1/2, b: -3/4}"
      ]
     },
     "execution_count": 18,
     "metadata": {},
     "output_type": "execute_result"
    }
   ],
   "source": [
    "# mocniny t v rieseni !!!\n",
    "S = solve([csl-csp,ssl-ssp],[a,b])\n",
    "\n",
    "# to dole je vsetko len kvoli krajsiemu vypisu\n",
    "a_v,b_v= S[a],S[b]\n",
    "a_vysl,b_vysl = latex(S[a]), latex(S[b])\n",
    "omstr = latex(omega)\n",
    "tk = \"\" if k==0 else \"t^%d\\left(\" %k\n",
    "tkend = \"\" if k == 0 else \"\\right)\"\n",
    "vypis = r\"Koeficienty: $\\displaystyle{a = %s,\\ b= %s}.$<p/>\\\n",
    "Výsledok: $\\ y_p=\\displaystyle{%s %s \\cos %s t  %s \\sin %s t %s}.$\" %(a_vysl,b_vysl,tk,a_vysl,omstr,b_vysl,omstr,tkend)\n",
    "S"
   ]
  },
  {
   "cell_type": "markdown",
   "metadata": {
    "variables": {
     " vypis ": "Koeficienty: $\\displaystyle{a = - \\frac{1}{2},\\ b= - \\frac{3}{4}}.$<p/>Výsledok: $\\ y_p=\\displaystyle{t^1\\left( - \\frac{1}{2} \\cos 2 t  - \\frac{3}{4} \\sin 2 t \\right)}.$"
    }
   },
   "source": [
    "{{ vypis }}\n",
    "<p/>\n",
    "Treba urobiť skúšku, či je to správne riešenie."
   ]
  },
  {
   "cell_type": "code",
   "execution_count": 19,
   "metadata": {
    "collapsed": false
   },
   "outputs": [],
   "source": [
    "yp = a_v*t*cos(omega*t) + b_v*t*sin(omega*t)\n",
    "LS = a2*diff(yp,t,2) + a1*diff(yp,t) + a0*yp"
   ]
  },
  {
   "cell_type": "code",
   "execution_count": 20,
   "metadata": {
    "collapsed": false
   },
   "outputs": [
    {
     "data": {
      "image/png": "[encoded data removed]",
      "text/latex": [
       "$$\\left ( 2 \\sin{\\left (2 t \\right )} - 3 \\cos{\\left (2 t \\right )}, \\quad 2 \\sin{\\left (2 t \\right )} - 3 \\cos{\\left (2 t \\right )}\\right )$$"
      ],
      "text/plain": [
       "(2⋅sin(2⋅t) - 3⋅cos(2⋅t), 2⋅sin(2⋅t) - 3⋅cos(2⋅t))"
      ]
     },
     "execution_count": 20,
     "metadata": {},
     "output_type": "execute_result"
    }
   ],
   "source": [
    "pravda = (LS.simplify() == f)\n",
    "prastr = \"Nie je \" if not pravda else \"Je \"\n",
    "Skuska = prastr + \"to správne riešenie.\"\n",
    "LS,f"
   ]
  },
  {
   "cell_type": "markdown",
   "metadata": {
    "variables": {
     " Skuska ": "Je to správne riešenie."
    }
   },
   "source": [
    "{{ Skuska }}"
   ]
  },
  {
   "cell_type": "markdown",
   "metadata": {},
   "source": [
    "## 2. Riešenie metódou neurčitých koeficientov, prechod ku komplexnej pravej strane"
   ]
  },
  {
   "cell_type": "code",
   "execution_count": 21,
   "metadata": {
    "collapsed": false
   },
   "outputs": [
    {
     "data": {
      "image/png": "[encoded data removed]",
      "text/latex": [
       "$$2 \\sin{\\left (2 t \\right )} - 3 \\cos{\\left (2 t \\right )}$$"
      ],
      "text/plain": [
       "2⋅sin(2⋅t) - 3⋅cos(2⋅t)"
      ]
     },
     "execution_count": 21,
     "metadata": {},
     "output_type": "execute_result"
    }
   ],
   "source": [
    "a2,a1,a0 = 1,0,4\n",
    "al = 0  # cislo alfa v exponenciale\n",
    "be = 2  # cislo v sinusoch a kosinusoch\n",
    "A = al + I*be\n",
    "Pm,Qn = -3,2\n",
    "f = exp(al*t)*(Pm*cos(be*t) + Qn*sin(be*t))\n",
    "f   # vypis pravej strany"
   ]
  },
  {
   "cell_type": "markdown",
   "metadata": {},
   "source": [
    "Zmenená pravá strana $\\tilde{f}$ v komplexnom tvare bude"
   ]
  },
  {
   "cell_type": "code",
   "execution_count": 22,
   "metadata": {
    "collapsed": false
   },
   "outputs": [
    {
     "data": {
      "image/png": "[encoded data removed]",
      "text/latex": [
       "$$\\left(-3 - 2 i\\right) e^{2 i t}$$"
      ],
      "text/plain": [
       "            2⋅ⅈ⋅t\n",
       "(-3 - 2⋅ⅈ)⋅ℯ     "
      ]
     },
     "execution_count": 22,
     "metadata": {},
     "output_type": "execute_result"
    }
   ],
   "source": [
    "fv = exp(A*t)*(Pm -I*Qn)\n",
    "fv"
   ]
  },
  {
   "cell_type": "markdown",
   "metadata": {},
   "source": [
    "Číslo k (násobnosť čísla α ako koreňa char. rovnice) urobí funkcia ```nas_kor``` a korene vypíšeme cez ```vypis_kor```"
   ]
  },
  {
   "cell_type": "code",
   "execution_count": 23,
   "metadata": {
    "collapsed": false
   },
   "outputs": [],
   "source": [
    "drc = [a2,a1,a0]\n",
    "k = nas_kor(al + I*be, drc)\n",
    "kor = vypis_kor(drc)"
   ]
  },
  {
   "cell_type": "markdown",
   "metadata": {
    "variables": {
     " HTML(kor) ": "2 i, - 2 i",
     " HTML(latex(al + I*be)) ": "2 i",
     " HTML(latex(k)) ": "1"
    }
   },
   "source": [
    "Máme $k = $ {{ HTML(latex(k)) }}, pretože korene char. rovnice sú {{ HTML(kor) }} a \n",
    "$\\alpha + i \\beta = $ {{ HTML(latex(al + I*be)) }}. \n",
    "<br/>Preto tvar partikulárneho riesenia je:"
   ]
  },
  {
   "cell_type": "code",
   "execution_count": 24,
   "metadata": {
    "collapsed": false
   },
   "outputs": [
    {
     "data": {
      "image/png": "[encoded data removed]",
      "text/latex": [
       "$$r_{0} t e^{2 i t}$$"
      ],
      "text/plain": [
       "      2⋅ⅈ⋅t\n",
       "r₀⋅t⋅ℯ     "
      ]
     },
     "execution_count": 24,
     "metadata": {},
     "output_type": "execute_result"
    }
   ],
   "source": [
    "r0 = var('r0')\n",
    "ypv = (t**k)*r0*exp(A*t)\n",
    "ypv"
   ]
  },
  {
   "cell_type": "markdown",
   "metadata": {},
   "source": [
    "Potrebujeme určiť neznámy (komplexný) koeficient $r_0$. Urobíme preto prvú a druhú deriváciu $y_p$ a dosadíme do pôvodnej rovnice. Vypíšeme, čo sme dostali na ľavej strane  a aj zmenenú pravú stranu $\\tilde{f}$."
   ]
  },
  {
   "cell_type": "code",
   "execution_count": 25,
   "metadata": {
    "collapsed": false
   },
   "outputs": [
    {
     "data": {
      "image/png": "[encoded data removed]",
      "text/latex": [
       "$$\\left ( 4 r_{0} t e^{2 i t} + 4 r_{0} \\left(- t + i\\right) e^{2 i t}, \\quad \\left(-3 - 2 i\\right) e^{2 i t}\\right )$$"
      ],
      "text/plain": [
       "⎛        2⋅ⅈ⋅t                  2⋅ⅈ⋅t              2⋅ⅈ⋅t⎞\n",
       "⎝4⋅r₀⋅t⋅ℯ      + 4⋅r₀⋅(-t + ⅈ)⋅ℯ     , (-3 - 2⋅ⅈ)⋅ℯ     ⎠"
      ]
     },
     "execution_count": 25,
     "metadata": {},
     "output_type": "execute_result"
    }
   ],
   "source": [
    "LS = a2*diff(ypv,t,2) + a1*diff(ypv,t) +a0*ypv\n",
    "LS, fv"
   ]
  },
  {
   "cell_type": "code",
   "execution_count": 26,
   "metadata": {
    "collapsed": false
   },
   "outputs": [],
   "source": [
    "c_t0, c_t1 = LS.subs(t,0),expand(LS).coeff(t*exp(A*t))\n",
    "# Podobne s pravou stranou\n",
    "\n",
    "c_t0p, c_t1p = fv.subs(t,0),fv.coeff(t*exp(A*t))\n",
    "\n",
    "rovnica1 = r\"$%s = %s$\" %(latex(c_t0),latex(c_t0p))\n",
    "rovnica2 = r\"$%s = %s$\" %(latex(c_t1),latex(c_t1p))"
   ]
  },
  {
   "cell_type": "markdown",
   "metadata": {
    "variables": {
     " rovnica1 ": "$4 i r_{0} = -3 - 2 i$",
     " rovnica2 ": "$0 = 0$"
    }
   },
   "source": [
    "Porovnaním koeficientov pri rovnakých výrazoch dostaneme rovnice: <br/>\n",
    "Koeficienty pri abs. člene ($t^0$) na ľavej a pravej strane: {{ rovnica1 }}\n",
    "<br/>\n",
    "Koeficienty pri $t^1$ na ľavej a pravej strane: {{ rovnica2 }}\n",
    "<p/>\n",
    "Máme teda jedinú rovnicu, hravo ju vyriešime.<br/>\n",
    "Vyskúšajte, čo by sa stalo, keby ste hore mylne určili $k=0$."
   ]
  },
  {
   "cell_type": "code",
   "execution_count": 27,
   "metadata": {
    "collapsed": false
   },
   "outputs": [
    {
     "data": {
      "image/png": "[encoded data removed]",
      "text/latex": [
       "$$- \\frac{1}{2} + \\frac{3 i}{4}$$"
      ],
      "text/plain": [
       "  1   3⋅ⅈ\n",
       "- ─ + ───\n",
       "  2    4 "
      ]
     },
     "execution_count": 27,
     "metadata": {},
     "output_type": "execute_result"
    }
   ],
   "source": [
    "r0_vysl, = solve(c_t0-c_t0p,r0)\n",
    "r0_vysl"
   ]
  },
  {
   "cell_type": "markdown",
   "metadata": {},
   "source": [
    "Riešenie $\\tilde{y_p}$ pre zmenenú (komplexnú) pravú stranu $\\tilde{f}$ teda bude (dosadíme vypočítané $r_0$):"
   ]
  },
  {
   "cell_type": "code",
   "execution_count": 28,
   "metadata": {
    "collapsed": false
   },
   "outputs": [
    {
     "data": {
      "image/png": "[encoded data removed]",
      "text/latex": [
       "$$t \\left(- \\frac{1}{2} + \\frac{3 i}{4}\\right) e^{2 i t}$$"
      ],
      "text/plain": [
       "  ⎛  1   3⋅ⅈ⎞  2⋅ⅈ⋅t\n",
       "t⋅⎜- ─ + ───⎟⋅ℯ     \n",
       "  ⎝  2    4 ⎠       "
      ]
     },
     "execution_count": 28,
     "metadata": {},
     "output_type": "execute_result"
    }
   ],
   "source": [
    "ypv = ypv.subs(r0,r0_vysl)\n",
    "ypv"
   ]
  },
  {
   "cell_type": "markdown",
   "metadata": {},
   "source": [
    "Riešenie $y_p$ pre pôvodnú pravú stranu $f$ bude reálnou časťou riešenia $\\tilde{y_p}$.\n",
    "Urobte tú reálnu časť aj ručne!"
   ]
  },
  {
   "cell_type": "code",
   "execution_count": 29,
   "metadata": {
    "collapsed": false
   },
   "outputs": [
    {
     "data": {
      "image/png": "[encoded data removed]",
      "text/latex": [
       "$$- \\frac{3 t}{4} \\sin{\\left (2 t \\right )} - \\frac{t}{2} \\cos{\\left (2 t \\right )}$$"
      ],
      "text/plain": [
       "  3⋅t⋅sin(2⋅t)   t⋅cos(2⋅t)\n",
       "- ──────────── - ──────────\n",
       "       4             2     "
      ]
     },
     "execution_count": 29,
     "metadata": {},
     "output_type": "execute_result"
    }
   ],
   "source": [
    "yp, nieco = ypv.as_real_imag()\n",
    "yp"
   ]
  },
  {
   "cell_type": "code",
   "execution_count": 30,
   "metadata": {
    "collapsed": false
   },
   "outputs": [
    {
     "data": {
      "image/png": "[encoded data removed]",
      "text/latex": [
       "$$2 \\sin{\\left (2 t \\right )} - 3 \\cos{\\left (2 t \\right )}$$"
      ],
      "text/plain": [
       "2⋅sin(2⋅t) - 3⋅cos(2⋅t)"
      ]
     },
     "execution_count": 30,
     "metadata": {},
     "output_type": "execute_result"
    }
   ],
   "source": [
    "LS = skuska(drc,yp)\n",
    "vyslo = (LS == f)     # ci lava strana sa rovna pravej\n",
    "LS"
   ]
  },
  {
   "cell_type": "code",
   "execution_count": 31,
   "metadata": {
    "collapsed": false,
    "variables": {
     " LS ": "$$2 \\sin{\\left (2 t \\right )} - 3 \\cos{\\left (2 t \\right )}$$"
    }
   },
   "outputs": [
    {
     "data": {
      "text/plain": [
       "True"
      ]
     },
     "execution_count": 31,
     "metadata": {},
     "output_type": "execute_result"
    }
   ],
   "source": [
    "vyslo"
   ]
  }
 ],
 "metadata": {
  "kernelspec": {
   "display_name": "Python 3",
   "language": "python",
   "name": "python3"
  },
  "language_info": {
   "codemirror_mode": {
    "name": "ipython",
    "version": 3
   },
   "file_extension": ".py",
   "mimetype": "text/x-python",
   "name": "python",
   "nbconvert_exporter": "python",
   "pygments_lexer": "ipython3",
   "version": "3.5.1+"
  }
 },
 "nbformat": 4,
 "nbformat_minor": 0
}
