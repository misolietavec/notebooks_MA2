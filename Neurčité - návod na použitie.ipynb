{
 "cells": [
  {
   "cell_type": "markdown",
   "metadata": {},
   "source": [
    "# Teoretický základ\n",
    "## Pravá strana s polynómom a exponenciálnou funkciou\n",
    "Ak pravá strana je\n",
    "$$ f(t) = e^{\\alpha t} P_m(t),\n",
    "\\mbox{ kde } P_m\\ \\mbox{ je polynóm stupňa } m,$$\n",
    "<p/>\n",
    "partikulárne riešenie $y_p(t)$ hľadáme v tvare <p/>\n",
    "$$y_{p}(t) = e^{\\alpha t} R_m(t)\\, t^k\\ \\mbox{ kde } \\ R_m(t) \n",
    "\\ \\mbox{ je polynóm stupňa } m,$$\n",
    "<p/>\n",
    "** $k$ je násobnosť čísla $\\alpha$ ako koreňa charakteristickej rovnice. **\n",
    "<p/>\n",
    "\n",
    "\n",
    "## Pravá strana najkomplikovanejšia, sinusy a kosinusy\n",
    "Ak pravá strana je\n",
    "$$ f(t) = e^{\\alpha t}\\left({ P_m(t) \\cos \\beta t + Q_n(t) \\sin \\beta t}\\right),\n",
    "\\mbox{ kde } P_m, Q_n \\mbox{ sú polynómy stupňov } m \\mbox{ a } n,$$\n",
    "zoberieme inú pravú stranu, v komplexnom tvare:<p/>\n",
    "$$ \\tilde{f}(t) = e^{(\\alpha + i \\beta) t} (P_m(t) - i Q_n(t))\\ \n",
    "\\mbox{ (je to predchádzajúci prípad). }$$<p/>\n",
    "Presvedčte sa o tom, že __pôvodná pravá strana je reálnou časťou tej zmenenej komplexnej.__<br/>\n",
    "Partikulárne riešenie $\\tilde{y}_p(t)$ rovnice so zmenenou pravou stranou $\\tilde{f}(t)$ hľadáme v tvare <p/>\n",
    "$$ \\tilde{y}_{p}(t) = e^{(\\alpha + i \\beta) t} R_s(t)\\, t^k\\ \\mbox{ kde } \\ R_s(t) \n",
    "\\ \\mbox{ je polynóm stupňa } \\ s = \\max(n,m),$$\n",
    "<p/>\n",
    "** $k$ je násobnosť čísla $\\alpha + i \\beta$ ako koreňa charakteristickej rovnice. **\n",
    "<p/>\n",
    "Partikulárne riešenie $y_p(t)$ rovnice s pôvodnou  pravou stranou $f(t)$ nájdeme ako __reálnu časť riešenia $\\tilde{y}_{p}(t) $.__"
   ]
  },
  {
   "cell_type": "markdown",
   "metadata": {},
   "source": [
    "** Túto poniže bunku musíme vykonať najskôr (Shift-Enter) posunie nás to na ďalšiu.<br/>\n",
    "Načitávame tu, čo potrebujeme pre výpočty a zobrazovanie. **"
   ]
  },
  {
   "cell_type": "code",
   "execution_count": null,
   "metadata": {
    "collapsed": false
   },
   "outputs": [],
   "source": [
    "from sympy import var, init_printing, latex, diff, sin, cos, Function, I, roots\n",
    "from sympy import expand, collect, solve\n",
    "from neurcite import formulacia, vymysli, riesenie, skuska, nas_kor, vypis_kor\n",
    "from IPython.display import HTML\n",
    "init_printing()\n",
    "t = var('t',real=True)"
   ]
  },
  {
   "cell_type": "markdown",
   "metadata": {},
   "source": [
    "## Generovanie príkladov,  $\\ f(t) = e^{\\alpha t} P_m(t),\\mbox{ kde } P_m\\ \\mbox{ je polynóm stupňa } m$"
   ]
  },
  {
   "cell_type": "markdown",
   "metadata": {},
   "source": [
    "### 1. Číslo $\\alpha$ nie je koreňom charakteristickej rovnice  "
   ]
  },
  {
   "cell_type": "markdown",
   "metadata": {},
   "source": [
    "Zadáme koeficienty pri $y'', y', y$, číslo $\\alpha$ v exponenciále a koeficienty polynómu $R_m$ v riešení (počnúc najväčšou mocninou).<br/>\n",
    "Môžeme to ľubovoľne meniť, rovnicu však predpokladáme druhého rádu. "
   ]
  },
  {
   "cell_type": "code",
   "execution_count": null,
   "metadata": {
    "collapsed": false
   },
   "outputs": [],
   "source": [
    "drc = [1,-5,6]\n",
    "al = -1\n",
    "Rm = [1,1,-1,2]"
   ]
  },
  {
   "cell_type": "markdown",
   "metadata": {},
   "source": [
    "Číslo $k$ (násobnosť čísla $\\alpha$ ako koreňa char. rovnice) urobí funkcia ```nas_kor``` a korene vypíšeme cez ```vypis_kor```"
   ]
  },
  {
   "cell_type": "code",
   "execution_count": null,
   "metadata": {
    "collapsed": false
   },
   "outputs": [],
   "source": [
    "k = nas_kor(al, drc)\n",
    "kor = vypis_kor(drc)"
   ]
  },
  {
   "cell_type": "markdown",
   "metadata": {
    "variables": {
     " HTML(kor) ": "2, 3",
     " HTML(latex(al)) ": "-1",
     " HTML(latex(k)) ": "0"
    }
   },
   "source": [
    "Máme $k = $ {{ HTML(latex(k)) }}, pretože korene char. rovnice sú {{ HTML(kor) }} a \n",
    "$\\alpha = $ {{ HTML(latex(al)) }}."
   ]
  },
  {
   "cell_type": "markdown",
   "metadata": {},
   "source": [
    "Funkcia ```vymysli``` nám vyrobí pravú stranu rovnice, aj dá koeficienty polynómu $P_m$.\n",
    "Vypíšeme si to."
   ]
  },
  {
   "cell_type": "code",
   "execution_count": null,
   "metadata": {
    "collapsed": false
   },
   "outputs": [],
   "source": [
    "PS, Pm_f = vymysli(drc,al,Rm,by_coeff=True)\n",
    "# len pre pekny vypis\n",
    "PSv, Pm_fv = r\"$f(x)=%s$\" %latex(PS),r\"$%s$\" %latex(Pm_f)\n",
    "# skaredy vypis tu\n",
    "PS, Pm_f"
   ]
  },
  {
   "cell_type": "markdown",
   "metadata": {
    "variables": {
     " PSv ": "$f(x)=\\left(12 t^{3} - 9 t^{2} - 20 t + 33\\right) e^{- t}$",
     " Pm_fv ": "$\\left [ 12, \\quad -9, \\quad -20, \\quad 33\\right ]$"
    }
   },
   "source": [
    "Pravá strana je {{ PSv }} a koeficienty polynómu sú {{ Pm_fv }}.<br/>\n",
    "Keď vyriešime DR s takou pravou stranou, má nám vyjsť to naše hore vymyslené riešenie."
   ]
  },
  {
   "cell_type": "code",
   "execution_count": null,
   "metadata": {
    "collapsed": false
   },
   "outputs": [],
   "source": [
    "yp = riesenie(drc,al,Pm_f)\n",
    "# vyslo?\n",
    "yp, Rm"
   ]
  },
  {
   "cell_type": "markdown",
   "metadata": {},
   "source": [
    "Funkcia ```skuska``` nám dá pravú stranu po dosadení $y_p$ do rovnice. \n",
    "Má to byť tá hore generovaná."
   ]
  },
  {
   "cell_type": "code",
   "execution_count": null,
   "metadata": {
    "collapsed": false
   },
   "outputs": [],
   "source": [
    "# vyslo?\n",
    "skuska(drc,yp)"
   ]
  },
  {
   "cell_type": "markdown",
   "metadata": {},
   "source": [
    "### 2. Číslo $\\alpha$ je koreňom charakteristickej rovnice  "
   ]
  },
  {
   "cell_type": "code",
   "execution_count": null,
   "metadata": {
    "collapsed": true
   },
   "outputs": [],
   "source": [
    "drc = [1,-5,6]\n",
    "al = 2\n",
    "# Rm = [1,1,-1,2]\n",
    "r0 = var(\"r0\")\n",
    "Rm = [1,1,-1,r0]\n",
    "k = nas_kor(al, drc)\n",
    "kor = vypis_kor(drc)"
   ]
  },
  {
   "cell_type": "markdown",
   "metadata": {
    "variables": {
     " HTML(kor) ": "2, 3",
     " HTML(latex(al)) ": "2",
     " HTML(latex(k)) ": "1"
    }
   },
   "source": [
    "Máme $k = $ {{ HTML(latex(k)) }}, pretože korene char. rovnice sú: {{ HTML(kor) }} a \n",
    "$\\alpha = $ {{ HTML(latex(al)) }}."
   ]
  },
  {
   "cell_type": "code",
   "execution_count": null,
   "metadata": {
    "collapsed": false
   },
   "outputs": [],
   "source": [
    "PS, Pm_f = vymysli(drc,al,Rm,by_coeff=True)\n",
    "PS, Pm_f"
   ]
  },
  {
   "cell_type": "code",
   "execution_count": null,
   "metadata": {
    "collapsed": false
   },
   "outputs": [],
   "source": [
    "yp = riesenie(drc,al,Pm_f)\n",
    "# vyslo?\n",
    "yp, Rm"
   ]
  },
  {
   "cell_type": "markdown",
   "metadata": {},
   "source": [
    "Zdá sa, že nevyšlo. Vypočítané a zadané $y_p$ sa líšia v poslednom koeficiente (absolútny člen). To je v poriadku, lebo ak $k$ nie je nula, posledných $k$ koeficientov \n",
    "(pri mocninách $t^{k-1},t^{k-2},\\dots,t^0$) môžeme ľubovoľne voliť a najednoduchšia voľba sú nuly, (funkcia ```riesenie``` to tak urobila). \n",
    "<p/>\n",
    "\n",
    "__ Presvedčme sa o tom tak, že dáme absolútny člen v ```Rm``` ľubovoľný (konštanta ```c``` - hore odpoznámkujte dva riadky__\n",
    "```python\n",
    "r0 = var(\"c\")\n",
    "Rm = [1,1,-1,r0]\n",
    "```\n",
    "__ a zapoznámkujte pôvodny riadok s ```Rm```. Zopakujte potom výpočet. __"
   ]
  },
  {
   "cell_type": "markdown",
   "metadata": {},
   "source": [
    "** Iný príklad, viacnásobný koreň **"
   ]
  },
  {
   "cell_type": "code",
   "execution_count": null,
   "metadata": {
    "collapsed": true
   },
   "outputs": [],
   "source": [
    "drc = [1,-4,4]\n",
    "al = 2\n",
    "Rm = [1,-2,1,3]\n",
    "# r1,r0 = var(\"r1,r0\")\n",
    "# Rm = [1,-2,r1,r0]\n",
    "k = nas_kor(al, drc)\n",
    "kor = vypis_kor(drc)"
   ]
  },
  {
   "cell_type": "markdown",
   "metadata": {
    "variables": {
     " HTML(kor) ": "2 (násobnosť: 2)",
     " HTML(latex(al)) ": "2",
     " HTML(latex(k)) ": "2"
    }
   },
   "source": [
    "Máme $k = $ {{ HTML(latex(k)) }}, pretože korene char. rovnice sú: {{ HTML(kor) }} a \n",
    "$\\alpha = $ {{ HTML(latex(al)) }}."
   ]
  },
  {
   "cell_type": "code",
   "execution_count": null,
   "metadata": {
    "collapsed": false
   },
   "outputs": [],
   "source": [
    "# generovanie pravej strany\n",
    "PS, Pm_f = vymysli(drc,al,Rm,by_coeff=True)\n",
    "PS, Pm_f"
   ]
  },
  {
   "cell_type": "code",
   "execution_count": null,
   "metadata": {
    "collapsed": false
   },
   "outputs": [],
   "source": [
    "yp = riesenie(drc,al,Pm_f)\n",
    "# vyslo?\n",
    "yp, Rm"
   ]
  },
  {
   "cell_type": "markdown",
   "metadata": {},
   "source": [
    "Zasa vypočítané $y_p$ má nuly na mieste dvoch posledných koeficientov (ktoré v tomto prípade môžeme ľubovolne voliť).<br/>\n",
    "Skúška vychádza:"
   ]
  },
  {
   "cell_type": "code",
   "execution_count": null,
   "metadata": {
    "collapsed": false
   },
   "outputs": [],
   "source": [
    "skuska(drc,yp)"
   ]
  },
  {
   "cell_type": "markdown",
   "metadata": {},
   "source": [
    "Keby sme tam silou-mocou chceli tie naše koeficienty, povieme to takto:"
   ]
  },
  {
   "cell_type": "code",
   "execution_count": null,
   "metadata": {
    "collapsed": false
   },
   "outputs": [],
   "source": [
    "yp = riesenie(drc,al,Pm_f,Rm=Rm)\n",
    "yp, Rm"
   ]
  },
  {
   "cell_type": "markdown",
   "metadata": {},
   "source": [
    "A skúška vychádza aj tak:"
   ]
  },
  {
   "cell_type": "code",
   "execution_count": null,
   "metadata": {
    "collapsed": false
   },
   "outputs": [],
   "source": [
    "skuska(drc,yp)"
   ]
  },
  {
   "cell_type": "markdown",
   "metadata": {},
   "source": [
    "### 3. Pravá strana so sinusmi a kosinusmi, $k=0$"
   ]
  },
  {
   "cell_type": "code",
   "execution_count": null,
   "metadata": {
    "collapsed": false
   },
   "outputs": [],
   "source": [
    "drc = [1,-2,2]\n",
    "al,be = 1, 2\n",
    "Rcm, Rsn = [2],[1,-3]\n",
    "PS,Pm,Qn = vymysli(drc,al,Rcm,be,Rsn,by_coeff=True)\n",
    "PS,Pm,Qn"
   ]
  },
  {
   "cell_type": "code",
   "execution_count": null,
   "metadata": {
    "collapsed": false
   },
   "outputs": [],
   "source": [
    "# k a korene\n",
    "k = nas_kor(al +I*be, drc)\n",
    "kor = vypis_kor(drc)"
   ]
  },
  {
   "cell_type": "markdown",
   "metadata": {
    "variables": {
     " HTML(kor) ": "1 + i, 1 - i",
     " HTML(latex(al + I*be)) ": "1 + 2 i",
     " HTML(latex(k)) ": "0"
    }
   },
   "source": [
    "Máme $k = $ {{ HTML(latex(k)) }}, pretože korene char. rovnice sú {{ HTML(kor) }} a \n",
    "$\\alpha + i \\beta = $ {{ HTML(latex(al + I*be)) }}."
   ]
  },
  {
   "cell_type": "code",
   "execution_count": null,
   "metadata": {
    "collapsed": false
   },
   "outputs": [],
   "source": [
    "# musime zadat aj beta a polynom pri sinuse\n",
    "yp = riesenie(drc,al,Pm,be,Qn)\n",
    "# vyslo?\n",
    "yp, Rcm, Rsn"
   ]
  },
  {
   "cell_type": "code",
   "execution_count": null,
   "metadata": {
    "collapsed": false
   },
   "outputs": [],
   "source": [
    "skuska(drc,yp,[al,be])"
   ]
  },
  {
   "cell_type": "markdown",
   "metadata": {},
   "source": [
    "### 4. Pravá strana so sinusmi a kosinusmi, $k>0$"
   ]
  },
  {
   "cell_type": "code",
   "execution_count": null,
   "metadata": {
    "collapsed": false
   },
   "outputs": [],
   "source": [
    "drc = [1,-2,2]\n",
    "al,be = 1, 1\n",
    "Rcm, Rsn = [2,3],[1,-3]\n",
    "# Rcm, Rsn = [2,0],[1,0]\n",
    "PS,Pm,Qn = vymysli(drc,al,Rcm,be,Rsn,by_coeff=True)\n",
    "PS,Pm,Qn"
   ]
  },
  {
   "cell_type": "code",
   "execution_count": null,
   "metadata": {
    "collapsed": true
   },
   "outputs": [],
   "source": [
    "k,kor = nas_kor(al +I*be, drc), vypis_kor(drc)"
   ]
  },
  {
   "cell_type": "markdown",
   "metadata": {
    "variables": {
     " HTML(kor) ": "1 + i, 1 - i",
     " HTML(latex(al + I*be)) ": "1 + i",
     " HTML(latex(k)) ": "1"
    }
   },
   "source": [
    "Máme $k = $ {{ HTML(latex(k)) }}, pretože korene char. rovnice sú {{ HTML(kor) }} a \n",
    "$\\alpha + i \\beta = $ {{ HTML(latex(al + I*be)) }}."
   ]
  },
  {
   "cell_type": "code",
   "execution_count": null,
   "metadata": {
    "collapsed": false
   },
   "outputs": [],
   "source": [
    "yp = riesenie(drc,al,Pm,be,Qn)\n",
    "yp, Rcm, Rsn"
   ]
  },
  {
   "cell_type": "markdown",
   "metadata": {},
   "source": [
    "Zasa sa netreba vzrušovať tým, že máme iné (jednoduchšie) $y_p$ pretože skúška vyjde.<br/> Poučenie je tiež, že stačí dávať nuly na posledných $k$ miestach pri vymýšľaní<br/>\n",
    "(zapoznámkovaný riadok ```Rcm, Rsn = [2,0],[1,0]``` hore,vyskúšajte)."
   ]
  },
  {
   "cell_type": "code",
   "execution_count": null,
   "metadata": {
    "collapsed": false
   },
   "outputs": [],
   "source": [
    "LS = skuska(drc,yp,[al,be])\n",
    "LS"
   ]
  },
  {
   "cell_type": "markdown",
   "metadata": {},
   "source": [
    "Či sa ľavá a pravá strana rovnajú (keby sme to nevideli aj voľným okom :-) "
   ]
  },
  {
   "cell_type": "code",
   "execution_count": null,
   "metadata": {
    "collapsed": false
   },
   "outputs": [],
   "source": [
    "LS == PS"
   ]
  },
  {
   "cell_type": "markdown",
   "metadata": {},
   "source": [
    "## Ešte jeden príklad, zapeklitý pre variáciu konštánt\n",
    "Pokus o riešenie VK je v inom notebooku..."
   ]
  },
  {
   "cell_type": "code",
   "execution_count": null,
   "metadata": {
    "collapsed": false
   },
   "outputs": [],
   "source": [
    "drc = [1,2,4]\n",
    "al,be = 0,1\n",
    "Pm,Qn = [1,0],[0]\n",
    "yp = riesenie(drc,al,Pm,be,Qn)\n",
    "yp.subs(t,0)\n",
    "ypd = diff(yp,t)\n",
    "ypd.subs(t,0)"
   ]
  },
  {
   "cell_type": "code",
   "execution_count": null,
   "metadata": {
    "collapsed": false
   },
   "outputs": [],
   "source": [
    "skuska(drc,yp)"
   ]
  }
 ],
 "metadata": {
  "kernelspec": {
   "display_name": "Python 3",
   "language": "python",
   "name": "python3"
  },
  "language_info": {
   "codemirror_mode": {
    "name": "ipython",
    "version": 3
   },
   "file_extension": ".py",
   "mimetype": "text/x-python",
   "name": "python",
   "nbconvert_exporter": "python",
   "pygments_lexer": "ipython3",
   "version": "3.5.1+"
  }
 },
 "nbformat": 4,
 "nbformat_minor": 0
}
