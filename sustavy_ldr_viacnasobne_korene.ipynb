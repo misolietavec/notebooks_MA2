{
 "cells": [
  {
   "cell_type": "markdown",
   "metadata": {
    "run_control": {
     "read_only": false
    }
   },
   "source": [
    "# Teoretický úvod\n",
    "Majme sústavu homogénnych lineárnych diferenciálnych rovníc (LDS)<p/>\n",
    "$\\overline{y'} = A \\overline{y}$, kde $A = (a_{ij})$ je číselná matica typu $n\\times n$ a $\\overline{y}=(y_i(t)), i = 1,2,\\dots,n$<p/> \n",
    "sú neznáme funkcie, ktoré treba určiť.\n",
    "\n",
    "Všeobecné riešenie homogénneho systému má tvar<p/> \n",
    "$$y_0(t) = c_1 \\overline{\\xi_1}(t) + c_2 \\overline{\\xi_2}(t) + \\cdots + c_n \\overline{\\xi_n}(t)$$<p/>\n",
    "kde $\\overline{\\xi_i}(t) = \\overline{\\varkappa_i} y_i(t), i = 1, 2, \\dots, n,\\  \\overline{\\varkappa_i}$ sú číselné vektory a $y_1(t), y_2(t), \\dots, y_n(t)$ sú linearne nezávislé funkcie. Tieto vektory a funkcie nájdeme pomocou koreňov charakteristickej rovnice<p/>\n",
    "$$ \\det(A - \\lambda E_n) = 0.$$\n",
    "Je to polynomická rovnica $n$-tého stupňa v premennej $\\lambda$, má práve $n$ koreňov.\n",
    "\n",
    "1. Ak $\\lambda_i$ je jednoduchým koreňom char. rovnice, potom príslušné riešenie $\\overline{\\xi_i}(t)$ je \n",
    "$$\\overline{\\xi_i}(t) = \\overline{\\varkappa_i} {e}^{\\lambda_i t},\\mbox{ kde vektor } \\overline{\\varkappa_i} \\mbox{ sa určí zo sústavy lin. rovníc } (A - \\lambda_i E_n) \\overline{\\varkappa_i} = \\overline{0}.$$\n",
    "Táto sústava má nekonečne veľa riešení, lebo determinant matice sústavy je nula. Preto (aspoň) jednu neznámu môžeme ľubovoľne zvoliť.\n",
    "2. Ak nejaké $\\lambda^\\ast$ je $k$-násobným koreňom char. rovnice, potom\n",
    "    - určíme hodnosť $h$ matice $A^\\ast = A - \\lambda^{\\ast} E_n$ a jej nulitu $\\nu = n -h$,\n",
    "    - príspevok koreňa do všeobecného riešenia hľadáme v tvare <p/>\n",
    "    $$\\overline{\\xi^{\\ast}}(t) = \\overline{P}_{m}(t)\\, {e}^{\\lambda^{\\ast} t} \\quad\n",
    "      \\mbox{ kde } \\ \\overline{P}_{m}(t) = \\overline{r_m}t^m + \\cdots + \\overline{r_1} t\n",
    "      + \\overline{r_0}$$ \n",
    "      je polynóm stupňa  $m=k-\\nu.$ \n",
    "      Neznáme koeficienty $\\overline{r_m}, \\overline{r_{m-1}}, \\dots, \\overline{r_0}$ určíme dosadením do sústavy a porovnaním koeficientov pri rovnakých mocninách $t$ (po pokrátení výrazom $e^{\\lambda^{\\ast} t}\\,$)."
   ]
  },
  {
   "cell_type": "markdown",
   "metadata": {},
   "source": [
    "## Vzorový príklad\n",
    "Riešme sústavu $ x' = 2 x + y,\\quad y' = -x + 4 y.$ \n",
    "\n",
    "Charakteristická rovnica je \n",
    "$\\displaystyle{\\det(A - \\lambda E_2) = \\det\\left(\n",
    "\\begin{array}{cc}\n",
    "2 - \\lambda & 1 \\\\\n",
    "-1 & 4 - \\lambda\n",
    "\\end{array}\n",
    "\\right) = 0}$, teda $\\lambda^2 - 6 \\lambda + 9 = 0\\ $ a má dvojnásobný koreň\n",
    "$\\lambda^\\ast=3.$<p/>\n",
    "Máme teda $k=2$ (násobnosť koreňa), \n",
    "$\\displaystyle{\\mathrm{h}\\,(A^\\ast) = \\mathrm{h}\\left(\n",
    "\\begin{array}{cc}\n",
    "2 - 3 & 1 \\\\\n",
    "-1 & 4 - 3\n",
    "\\end{array}\n",
    "\\right) = 1}$ pretože matica má rovnaké riadky $(-1, 1)$ a preto $\\nu = 2 - 1 = 1.$<br/> \n",
    "Polynóm \n",
    "$\\overline{P}_m(t)$ bude stupňa $m = k-\\nu = 2 - 1 = 1$.<p/>\n",
    "Preto $\\overline{\\xi^{\\ast}}(t)$ hľadáme v tvare:\n",
    "$$\\overline{\\xi^{\\ast}}(t) = (\\overline{r_1} t + \\overline{r_0}\\,)\\, e^{3 t} $$\n",
    "a pre deriváciu máme \n",
    "$$\\overline{\\xi^{\\ast}\\, '}(t) = (r_1 + 3 \\overline{r_1} t + 3 \\overline{r_0}\\,)\\, e^{3 t}. $$\n",
    "Po dosadení do sústavy a pokrátení výrazom $e^{3 t}$\n",
    "$$3 \\overline{r_1} t + 3 \\overline{r_0} + \\overline{r_1} = \n",
    "A \\overline{r_1} t + A \\overline{r_0}.$$\n",
    "Porovnaním koeficientov pri rovnakých mocninách máme<p/>\n",
    "$$ t^1: 3 \\overline{r_1} = A \\overline{r_1}, \\quad\n",
    "   t^0: 3 \\overline{r_0} +\\overline{r_1} = A \\overline{r_0}.$$\n",
    "alebo ako systém\n",
    "$$ A^{\\ast} \\overline{r_1} = \\overline{0}, \\quad  \n",
    "   A^{\\ast} \\overline{r_0} = \\overline{r_1} \\ \\mbox{ kde } \n",
    "   A^\\ast =\\left(\n",
    "\\begin{array}{cc}\n",
    "- 1 & 1 \\\\\n",
    "-1 &  1\n",
    "\\end{array}\\right).$$  \n",
    "Najskôr musíme určiť $\\overline{r_1}$ (prečo?) potom $\\overline{r_0}$. Pretože matica $A^\\ast$ má rovnaké riadky, stačí brať len jeden, jednu rovnicu.<p/>\n",
    "Ak $\\overline{r_1} = (k_1, k_2)$ potom rovnica je $-k_1 + k_2 = 0.$<br/>\n",
    "Položme $k_1 = c_1$, potom $k_2 = c_1$ a teda $\\overline{r_1} = (c_1,c_1)$.\n",
    "Ak označíme $\\overline{r_0} = (q_1, q_2)$ potom máme sústavu\n",
    "$$\n",
    "\\left(\n",
    "\\begin{array}{cc}\n",
    "- 1 & 1 \\\\\n",
    "-1 &  1\n",
    "\\end{array}\\right)\n",
    "\\left(\n",
    "\\begin{array}{c}\n",
    "q_1 \\\\\n",
    "q_2\n",
    "\\end{array}\\right)=\n",
    "\\left(\n",
    "\\begin{array}{c}\n",
    "c_1 \\\\\n",
    "c_1\n",
    "\\end{array}\\right)\n",
    "$$\n",
    "Naozaj jedna rovnica stačí a dostávame\n",
    "$$\n",
    "-q_1 + q_2 = c_1;\\ \\mbox{ ak položíme }\\  q_1 = c_2,\\ \\mbox{ potom }\\ \n",
    "q_2 = c_1 + c_2.\n",
    "$$\n",
    "Preto $\\overline{r_0} = (c_2, c_1 + c_2)$ a konečné riešenie $y_0(t)$ je\n",
    "$$\n",
    "y_0(t) =\n",
    "\\left(\n",
    "\\begin{array}{c}\n",
    "c_1 \\\\\n",
    "c_1\n",
    "\\end{array}\\right) t e^{3 t} +\n",
    "\\left(\n",
    "\\begin{array}{c}\n",
    "c_2 \\\\\n",
    "c_1 + c_2\n",
    "\\end{array}\\right) e^{3 t}.\n",
    "$$"
   ]
  },
  {
   "cell_type": "code",
   "execution_count": null,
   "metadata": {
    "collapsed": true
   },
   "outputs": [],
   "source": []
  }
 ],
 "metadata": {
  "kernelspec": {
   "display_name": "Python 3",
   "language": "python",
   "name": "python3"
  },
  "language_info": {
   "codemirror_mode": {
    "name": "ipython",
    "version": 3
   },
   "file_extension": ".py",
   "mimetype": "text/x-python",
   "name": "python",
   "nbconvert_exporter": "python",
   "pygments_lexer": "ipython3",
   "version": "3.5.1+"
  },
  "widgets": {
   "state": {},
   "version": "1.0.0"
  }
 },
 "nbformat": 4,
 "nbformat_minor": 0
}
