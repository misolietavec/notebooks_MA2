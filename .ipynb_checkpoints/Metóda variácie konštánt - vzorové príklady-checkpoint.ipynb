{
 "cells": [
  {
   "cell_type": "markdown",
   "metadata": {},
   "source": [
    "# Teoretický základ\n",
    "Nech máme lineárnu diferenciálnu rovnicu 2.-ho rádu<p/>\n",
    "$$a_2\\, y''(t) + a_1\\, y'(t) + a_0\\, y(t) = f(t).$$<p/>\n",
    "Predpokladajme, že vieme určiť riešenie $y_0(t)$ príslušnej homogénnej rovnice (t.j. pre $f(t)=0$).<br/> \n",
    "Toto riešenie má vždy tvar<p/>\n",
    "$$ y_0(t) = c_1 y_1(t) + c_2 y_2(t),\\ \n",
    "\\mbox{ kde } y_1(t),y_2(t)\\ \\mbox{ sú lineárne nezávislé funkcie a }\n",
    "c_1,c_2 \\ \\mbox{ sú ľubovoľné konštanty.}$$<p/>\n",
    "Metóda variácie konštant je založená na nádeji, že ak namiesto konštánt $c_1, c_2$ (ktorých grafy sú vodorovné priamky) zoberieme funkcie $c_1(t), c_2(t)$, tak sa nám môže podariť vybrať také, že sa prispôsobia pravej strane.<p/>\n",
    "Predpokladajme teda, že partikulárne riešenie hľadáme v tvare<p/>\n",
    "$$ y_p(t) = c_1(t)\\, y_1(t) + c_2(t)\\, y_2(t).$$<p/>\n",
    "Dá sa ukázať, že derivácie neznámych funkcií $c_1'(t), c_2'(t)$ dostaneme zo sústavy lineárnych rovníc<p/>\n",
    "$$\n",
    "\\left({\n",
    "\\begin{array}{cc}\n",
    "y_1(t) & y_2(t) \\\\\n",
    "y_1'(t) & y_2'(t)\n",
    "\\end{array}\n",
    "}\\right)\n",
    "\\left({\n",
    "\\begin{array}{c}\n",
    "c_1'(t) \\\\\n",
    "c_2'(t)\n",
    "\\end{array}\n",
    "}\\right)=\n",
    "\\left({\n",
    "\\begin{array}{c}\n",
    " 0 \\\\\n",
    "f(t)/a_2\n",
    "\\end{array}\n",
    "}\\right).\n",
    "$$<p/>\n",
    "Po vyriešení tejto sústavy (vylučovacou, sčítacou metódou, či cez determinanty Cramerovým pravidlom) funkcie $c_1(t), c_2(t)$ dostaneme integrovaním, čo býva obyčajne najťažším krokom v tejto metóde\n",
    "<p/>\n",
    "$$ c_1(t) = \\int c_1'(t)\\, dt,\\ \\ c_2(t) = \\int c_2'(t)\\, dt.$$"
   ]
  },
  {
   "cell_type": "code",
   "execution_count": null,
   "metadata": {
    "collapsed": true
   },
   "outputs": [],
   "source": [
    "from sympy import var, init_printing, latex, diff, sin, cos, exp, I, pi, sqrt\n",
    "from sympy import expand, collect, linsolve, Matrix, integrate, factor, Rational\n",
    "from varkonst import formulacia, fund_ries, sucin_na_sucet\n",
    "#riesenie, skuska\n",
    "from IPython.display import HTML\n",
    "init_printing()\n",
    "t = var('t',real=True)"
   ]
  },
  {
   "cell_type": "markdown",
   "metadata": {},
   "source": [
    "### Príklady (Berman, Minorskij)\n",
    "1. $\\ \\displaystyle{y'' - 2 y' + y = \\frac{e^t}{t^2+1}}$<p/>\n",
    "2. $\\ \\displaystyle{y'' - y' = f(t) \\mbox{ ak }}$\n",
    "  1. $\\ \\displaystyle{f(t) = \\frac{e^t}{1+e^t}}$<p/>\n",
    "  2. $\\ \\displaystyle{f(t) = e^{2 t} \\sqrt{1 - e^{2t}}}$<p/>\n",
    "  3. $\\ \\displaystyle{e^{2 t}\\cos e^t}$<p/>\n",
    "3. $\\ \\displaystyle{y'' + 4 y' + 4 y = e^{-2 t}\\ln t}$<p/>\n",
    "4. $\\ \\displaystyle{y'' + y = \\frac{1}{\\cos^3 t}}$<p/>\n",
    "5. $\\ \\displaystyle{y'' - 4 y' + 5 y = \\frac{e^{2 t}}{\\cos t}}$<p/>\n",
    "6. $\\ \\displaystyle{y'' + 4 y' + 4 y = \\frac{e^{-2 t}}{t^3}}$"
   ]
  },
  {
   "cell_type": "markdown",
   "metadata": {},
   "source": [
    "### Riešenie pr. 1."
   ]
  },
  {
   "cell_type": "code",
   "execution_count": null,
   "metadata": {
    "collapsed": true
   },
   "outputs": [],
   "source": [
    "drc = [1,-2,1]\n",
    "f = exp(t)/(t**2 + 1)\n",
    "rovnica = formulacia(drc,f)"
   ]
  },
  {
   "cell_type": "markdown",
   "metadata": {},
   "source": [
    "Riešime teda rovnicu {{ HTML(rovnica) }}. Najskôr nájdeme fundamentálne riešenia $y_1(t), y_2(t).$"
   ]
  },
  {
   "cell_type": "code",
   "execution_count": null,
   "metadata": {
    "collapsed": false
   },
   "outputs": [],
   "source": [
    "y1, y2 = fund_ries(drc)\n",
    "y1,y2"
   ]
  },
  {
   "cell_type": "markdown",
   "metadata": {},
   "source": [
    "Zdôvodnite, prečo sú riešenia také. Partikulárne riešenie hľadáme v tvare<p/>\n",
    "$$ y_p(t) = c_1(t)\\, y_1(t) + c_2(t)\\, y_2(t).$$ \n",
    "Zostavíme systém lineárnych rovníc pre neznáme $c_1'(t), c_2'(t)$  a vyriešime ho."
   ]
  },
  {
   "cell_type": "code",
   "execution_count": null,
   "metadata": {
    "collapsed": false
   },
   "outputs": [],
   "source": [
    "c1d, c2d = var(\"c1d, c2d\")                     # premenne pre derivacie c1(t),c2(t) \n",
    "A = Matrix([[y1,y2],[diff(y1,t),diff(y2,t)]])  # matica sustavy\n",
    "b = Matrix([0,f])                              # prava strana\n",
    "cd, = linsolve((A,b),[c1d,c2d])                # riesenie\n",
    "c1d, c2d = cd\n",
    "c1d, c2d"
   ]
  },
  {
   "cell_type": "markdown",
   "metadata": {},
   "source": [
    "Funkcie $c_1(t), c_2(t)$ dostaneme integrovaním $c_1'(t), c_2'(t)$. Horeuvedené výrazy by sme vedeli v pohode aj ručne integrovať (urobte). Aj soft náš (sympy) to vie. "
   ]
  },
  {
   "cell_type": "code",
   "execution_count": null,
   "metadata": {
    "collapsed": false
   },
   "outputs": [],
   "source": [
    "c1t,c2t = integrate(c1d,t),integrate(c2d,t)\n",
    "c1t,c2t"
   ]
  },
  {
   "cell_type": "markdown",
   "metadata": {},
   "source": [
    "Teraz vieme napísať aj partikulárne riešenie $y_p(t)$. "
   ]
  },
  {
   "cell_type": "code",
   "execution_count": null,
   "metadata": {
    "collapsed": false
   },
   "outputs": [],
   "source": [
    "yp = c1t*y1 + c2t*y2\n",
    "ypstr = r\"$y_p(t) = %s$\" %latex(yp)"
   ]
  },
  {
   "cell_type": "markdown",
   "metadata": {},
   "source": [
    "{{ HTML(ypstr) }}"
   ]
  },
  {
   "cell_type": "markdown",
   "metadata": {},
   "source": [
    "### Riešenie pr. 4, komentáre už stručnejšie."
   ]
  },
  {
   "cell_type": "code",
   "execution_count": null,
   "metadata": {
    "collapsed": false
   },
   "outputs": [],
   "source": [
    "drc = [1,0,1]\n",
    "f = 1/(cos(t))**3\n",
    "rovnica = formulacia(drc,f)\n",
    "HTML(rovnica)"
   ]
  },
  {
   "cell_type": "code",
   "execution_count": null,
   "metadata": {
    "collapsed": false
   },
   "outputs": [],
   "source": [
    "# fundamentalne riesenia\n",
    "y1, y2 = fund_ries(drc)\n",
    "y1,y2"
   ]
  },
  {
   "cell_type": "code",
   "execution_count": null,
   "metadata": {
    "collapsed": false
   },
   "outputs": [],
   "source": [
    "c1d, c2d = var(\"c1d, c2d\")                     # premenne pre derivacie c1(t),c2(t) \n",
    "A = Matrix([[y1,y2],[diff(y1,t),diff(y2,t)]])  # matica sustavy\n",
    "b = Matrix([0,f])                              # prava strana\n",
    "cd, = linsolve((A,b),[c1d,c2d])                # riesenie\n",
    "c1d, c2d = cd\n",
    "c1d, c2d                                       # vypis c1'(t), c2'(t)"
   ]
  },
  {
   "cell_type": "markdown",
   "metadata": {},
   "source": [
    "Ako by sme riešili integrály s týchto funkcií?  "
   ]
  },
  {
   "cell_type": "code",
   "execution_count": null,
   "metadata": {
    "collapsed": false
   },
   "outputs": [],
   "source": [
    "c1t,c2t = integrate(c1d,t),integrate(c2d,t)\n",
    "c1t,c2t"
   ]
  },
  {
   "cell_type": "code",
   "execution_count": null,
   "metadata": {
    "collapsed": false
   },
   "outputs": [],
   "source": [
    "yp = c1t*y1 + c2t*y2\n",
    "yp"
   ]
  },
  {
   "cell_type": "code",
   "execution_count": null,
   "metadata": {
    "collapsed": false
   },
   "outputs": [],
   "source": [
    "# skusime zjednodusit\n",
    "yp.simplify()"
   ]
  }
 ],
 "metadata": {
  "kernelspec": {
   "display_name": "Python 3",
   "language": "python",
   "name": "python3"
  },
  "language_info": {
   "codemirror_mode": {
    "name": "ipython",
    "version": 3
   },
   "file_extension": ".py",
   "mimetype": "text/x-python",
   "name": "python",
   "nbconvert_exporter": "python",
   "pygments_lexer": "ipython3",
   "version": "3.5.1+"
  }
 },
 "nbformat": 4,
 "nbformat_minor": 0
}
