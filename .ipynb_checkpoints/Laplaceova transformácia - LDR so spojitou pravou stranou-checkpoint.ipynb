{
 "cells": [
  {
   "cell_type": "markdown",
   "metadata": {},
   "source": [
    "# Teoretický základ\n",
    "Chceme nájsť riešenie diferenciálnej rovnice<p/>\n",
    "$$ a_2 y''(t) + a_1 y'(t) + a_0 y(t) = f(t), \\mbox{ ak máme zadané počiatočné hodnoty }\n",
    "y(0), y'(0)\\ \\mbox{ v čase } t = 0.$$<p/>\n",
    "Nech $Y(s)$ je Laplaceov obraz funkcie $y(t)$, potom pre obrazy prvej a druhej derivácie\n",
    "$$ y'(t) \\rightarrow s Y(s) - y(0),\\quad y''(t) \\rightarrow s^2 Y(s) - s\\, y(0) - y'(0).$$<p/>\n",
    "Ak nájdeme aj obraz pravej strany $f(t) \\rightarrow F(s)$, vieme celú rovnicu pretransformovať. Z tejto rovnice ľahko\n",
    "vyjadríme obraz $Y(s)$ riešenia a pomocou inverznej transformácie nájdeme riešenie $y(t)$ rovnice v časovej oblasti, vyhovujúce zadaným podmienkam."
   ]
  },
  {
   "cell_type": "code",
   "execution_count": null,
   "metadata": {
    "collapsed": true
   },
   "outputs": [],
   "source": [
    "import sympy\n",
    "from sympy import symbols, init_printing, Function, Rational, plot, exp, sin, cos, apart, diff\n",
    "from sympy import laplace_transform as LT,inverse_laplace_transform as ILT, latex, solve\n",
    "from IPython.display import HTML\n",
    "from laplace_spoj import plot_riesenie\n",
    "y,Y = symbols(\"y,Y\", cls=Function)\n",
    "t = symbols(\"t\", positive=True)\n",
    "s = symbols(\"s\")\n",
    "%matplotlib inline\n",
    "%config InlineBackend.figure_formats=['svg']\n",
    "%config InlineBackend.rc = {\"figure.figsize\":  (6.4,4.8)}\n",
    "init_printing()"
   ]
  },
  {
   "cell_type": "markdown",
   "metadata": {},
   "source": [
    "## Niekoľko príkladov\n",
    "1. $\\displaystyle{y'' + 2 y' + y = \\sin t,\\ y(0) = 0, y'(0) = -1}$\n",
    "2. $\\displaystyle{y'' - y' + y = e^{-t},\\ y(0) = 0, y=(0) = 1}$\n",
    "3. $\\displaystyle{y'' -2 y' + 5 y = 1 - t,\\ y(0) = y'(0) = 0}$\n",
    "4. $\\displaystyle{y'' + y = t e^{t} + 4 \\sin 2t,\\ y(0)=2, y'(0) = -1}$\n",
    "5. $\\displaystyle{y'' + 2 y' + 4 y = t \\cos t,\\ y(0)=-34/169, y'(0) = 25/169}$"
   ]
  },
  {
   "cell_type": "markdown",
   "metadata": {},
   "source": [
    "### Riešenie, pr. 4"
   ]
  },
  {
   "cell_type": "code",
   "execution_count": null,
   "metadata": {
    "collapsed": false
   },
   "outputs": [],
   "source": [
    "# Zadanie:\n",
    "a2,a1,a0 = 1,0,1   # koeficienty rovnice\n",
    "y0, yd0 = 2,-1     # pociatocne podmienky\n",
    "f = t*exp(t) + 4*sin(2*t)"
   ]
  },
  {
   "cell_type": "code",
   "execution_count": null,
   "metadata": {
    "collapsed": false
   },
   "outputs": [],
   "source": [
    "# obraz lavej strany\n",
    "LS = a2*(s**2*Y(s) - s*y0 - yd0) + a1*(s*Y(s) -y0) + a0*Y(s)\n",
    "LS"
   ]
  },
  {
   "cell_type": "code",
   "execution_count": null,
   "metadata": {
    "collapsed": false
   },
   "outputs": [],
   "source": [
    "# obraz pravej strany\n",
    "F = LT(f,t,s,noconds=True)   # funkcia, nazov casovej premennej, nazov frekvencnej premennej\n",
    "F"
   ]
  },
  {
   "cell_type": "code",
   "execution_count": null,
   "metadata": {
    "collapsed": true
   },
   "outputs": [],
   "source": [
    "# pre vypis transformovanej rovnice\n",
    "rov_str = r\"$\\quad\\displaystyle{%s = %s}$\" %(latex(LS.collect(Y(s))), latex(F))"
   ]
  },
  {
   "cell_type": "markdown",
   "metadata": {
    "variables": {
     " rov_str ": "$\\quad\\displaystyle{- 2 s + \\left(s^{2} + 1\\right) Y{\\left (s \\right )} + 1 = \\frac{s^{2} + 8 \\left(s - 1\\right)^{2} + 4}{\\left(s - 1\\right)^{2} \\left(s^{2} + 4\\right)}}$"
    }
   },
   "source": [
    "Transformovaná rovnica je: {{ rov_str }}<br/>\n",
    "Ľahko z nej vyrátame $Y(s).$"
   ]
  },
  {
   "cell_type": "code",
   "execution_count": null,
   "metadata": {
    "collapsed": false
   },
   "outputs": [],
   "source": [
    "Ysol, = solve(LS - F,Y(s))\n",
    "Ysol"
   ]
  },
  {
   "cell_type": "markdown",
   "metadata": {},
   "source": [
    "Z tohto nám inverznú L-transformáciu nik len tak ľahko nevypočíta. Najskôr to upravíme na súčin, aby sme videli korene menovateľa."
   ]
  },
  {
   "cell_type": "code",
   "execution_count": null,
   "metadata": {
    "collapsed": false
   },
   "outputs": [],
   "source": [
    "Ysol = Ysol.factor()\n",
    "Ysol"
   ]
  },
  {
   "cell_type": "markdown",
   "metadata": {},
   "source": [
    "Teraz urobíme rozklad na elementárne zlomky (to môžeme, je to podiel polynómov, stupeň čitateľa\n",
    "je menší, ako stupeň menovateľa)."
   ]
  },
  {
   "cell_type": "code",
   "execution_count": null,
   "metadata": {
    "collapsed": false
   },
   "outputs": [],
   "source": [
    "Y_rozklad = apart(Ysol,s)\n",
    "Y_rozklad"
   ]
  },
  {
   "cell_type": "markdown",
   "metadata": {},
   "source": [
    "Potrebovali by sme dostať jednotlivé zlomky, ide to:"
   ]
  },
  {
   "cell_type": "code",
   "execution_count": null,
   "metadata": {
    "collapsed": false
   },
   "outputs": [],
   "source": [
    "Zlomky = Y_rozklad.as_coefficients_dict()\n",
    "Zlomky"
   ]
  },
  {
   "cell_type": "markdown",
   "metadata": {},
   "source": [
    "Vidíme, aké sú zlomky a s akým koeficientami sa v ```Y_rozklad``` vyskytujú. Pre každý zlomok urobíme inverznú \n",
    "L-transformáciu (funkcia ```ILT```), vynásobime príslušným koeficientom a pričítame k výsledku ```y_ries```. "
   ]
  },
  {
   "cell_type": "code",
   "execution_count": null,
   "metadata": {
    "collapsed": false
   },
   "outputs": [],
   "source": [
    "y_ries = 0\n",
    "for zlom in Zlomky:\n",
    "    coef = Zlomky[zlom]\n",
    "    y_zlom = ILT(zlom,s,t)\n",
    "    y_ries = y_ries + coef*y_zlom\n",
    "del zlom # aby to nerobilo galibu    \n",
    "# pre pekny vypis\n",
    "ries_str = r\"$\\ \\ \\displaystyle{y(t) = %s}$\" %latex(y_ries)"
   ]
  },
  {
   "cell_type": "markdown",
   "metadata": {
    "variables": {
     " ries_str ": "$\\ \\ \\displaystyle{y(t) = \\frac{t e^{t}}{2} - \\frac{e^{t}}{2} + \\frac{5}{3} \\sin{\\left (t \\right )} - \\frac{4}{3} \\sin{\\left (2 t \\right )} + \\frac{5}{2} \\cos{\\left (t \\right )}}$"
    }
   },
   "source": [
    "Riešenie rovnice, vyhovujúce podmienkam je {{ ries_str }}"
   ]
  },
  {
   "cell_type": "markdown",
   "metadata": {},
   "source": [
    "__Úlohy pre lepšie pochopenie__ \n",
    "1. Ručne vyriešte rovnicu pre $Y(s)$\n",
    "2. Napíšte si tvar rozkladu na elementárne zlomky pre $Y(s)$\n",
    "3. Pre každý elementárny zlomok urobte inverznú L-transformáciu osobitne.\n",
    "4. Vyriešte ostatné príklady zhora."
   ]
  },
  {
   "cell_type": "markdown",
   "metadata": {},
   "source": [
    "## Príklad, čo sme mali met. neuč. koeficientov aj variáciou konštánt\n",
    "Riešme rovnicu<p/>\n",
    "$$y'' + 2 y' + 4 y = t \\cos t,\\ y(0)=\\frac{-34}{169},\\ y'(0) = \\frac{25}{169}$$<p/>\n",
    "Pri týchto počiatočných podmienkach nám vyjde to riešenie, čo sme predtým mali ako $y_p$."
   ]
  },
  {
   "cell_type": "code",
   "execution_count": null,
   "metadata": {
    "collapsed": true
   },
   "outputs": [],
   "source": [
    "# Zadanie:\n",
    "a2,a1,a0 = 1,2,4   # koeficienty rovnice\n",
    "# presne zlomky sa musia zadavat cez funkciu Rational\n",
    "y0, yd0 = Rational(-34,169), Rational(25,169) # pociatocne podmienky\n",
    "\n",
    "f = t*cos(t)"
   ]
  },
  {
   "cell_type": "code",
   "execution_count": null,
   "metadata": {
    "collapsed": false
   },
   "outputs": [],
   "source": [
    "# Obrazy lavej a pravej strany\n",
    "LS = a2*(s**2*Y(s) - s*y0 - yd0) + a1*(s*Y(s) -y0) + a0*Y(s)\n",
    "F = LT(f,t,s,noconds=True)\n",
    "LS,F"
   ]
  },
  {
   "cell_type": "code",
   "execution_count": null,
   "metadata": {
    "collapsed": false
   },
   "outputs": [],
   "source": [
    "# Vyriesenie Y(s), rozklad na elem. zlomky\n",
    "Ysol, = solve(LS - F,Y(s))\n",
    "Ysol = Ysol.factor()\n",
    "Y_rozklad = apart(Ysol,s)\n",
    "Ysol, Y_rozklad"
   ]
  },
  {
   "cell_type": "code",
   "execution_count": null,
   "metadata": {
    "collapsed": false
   },
   "outputs": [],
   "source": [
    "# zistenie jednotlivych zlomkov a koeficientov\n",
    "Zlomky = Y_rozklad.as_coefficients_dict()\n",
    "Zlomky"
   ]
  },
  {
   "cell_type": "code",
   "execution_count": null,
   "metadata": {
    "collapsed": false
   },
   "outputs": [],
   "source": [
    "# Urcenie riesenia y(t)\n",
    "y_ries = 0\n",
    "for zlom in Zlomky:\n",
    "    coef = Zlomky[zlom]\n",
    "    y_zlom = ILT(zlom,s,t)\n",
    "    y_ries = y_ries + coef*y_zlom\n",
    "    \n",
    "# pre pekny vypis\n",
    "ries_str = r\"$\\ \\ \\displaystyle{y(t) = %s}$\" %latex(y_ries)\n",
    "y_ries"
   ]
  },
  {
   "cell_type": "markdown",
   "metadata": {
    "variables": {
     " ries_str ": "$\\ \\ \\displaystyle{y(t) = \\frac{2 t}{13} \\sin{\\left (t \\right )} + \\frac{3 t}{13} \\cos{\\left (t \\right )} - \\frac{14}{169} \\sin{\\left (t \\right )} - \\frac{34}{169} \\cos{\\left (t \\right )}}$"
    }
   },
   "source": [
    "Riešenie je {{ ries_str }}<p/>\n",
    "Vyskúšame, či sú splnené poč. podmienky."
   ]
  },
  {
   "cell_type": "code",
   "execution_count": null,
   "metadata": {
    "collapsed": false
   },
   "outputs": [],
   "source": [
    "y_ries.subs(t,0), diff(y_ries,t).subs(t,0)"
   ]
  }
 ],
 "metadata": {
  "kernelspec": {
   "display_name": "Python 3",
   "language": "python",
   "name": "python3"
  },
  "language_info": {
   "codemirror_mode": {
    "name": "ipython",
    "version": 3
   },
   "file_extension": ".py",
   "mimetype": "text/x-python",
   "name": "python",
   "nbconvert_exporter": "python",
   "pygments_lexer": "ipython3",
   "version": "3.5.1+"
  }
 },
 "nbformat": 4,
 "nbformat_minor": 0
}
