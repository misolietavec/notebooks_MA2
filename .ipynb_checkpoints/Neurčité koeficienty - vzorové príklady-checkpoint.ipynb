{
 "cells": [
  {
   "cell_type": "markdown",
   "metadata": {},
   "source": [
    "# Teoretický základ\n",
    "## Pravá strana s polynómom a exponenciálnou funkciou\n",
    "Ak pravá strana je\n",
    "$$ f(t) = e^{\\alpha t} P_m(t),\n",
    "\\mbox{ kde } P_m\\ \\mbox{ je polynóm stupňa } m,$$\n",
    "<p/>\n",
    "partikulárne riešenie $y_p(t)$ hľadáme v tvare <p/>\n",
    "$$y_{p}(t) = e^{\\alpha t} R_m(t)\\, t^k\\ \\mbox{ kde } \\ R_m(t) \n",
    "\\ \\mbox{ je polynóm stupňa } m,$$\n",
    "<p/>\n",
    "** $k$ je násobnosť čísla $\\alpha$ ako koreňa charakteristickej rovnice. **\n",
    "<p/>\n",
    "\n",
    "\n",
    "## Pravá strana najkomplikovanejšia, sinusy a kosinusy\n",
    "Ak pravá strana je\n",
    "$$ f(t) = e^{\\alpha t}\\left({ P_m(t) \\cos \\beta t + Q_n(t) \\sin \\beta t}\\right),\n",
    "\\mbox{ kde } P_m, Q_n \\mbox{ sú polynómy stupňov } m \\mbox{ a } n,$$\n",
    "zoberieme inú pravú stranu, v komplexnom tvare:<p/>\n",
    "$$ \\tilde{f}(t) = e^{(\\alpha + i \\beta) t} (P_m(t) - i Q_n(t))\\ \n",
    "\\mbox{ (je to predchádzajúci prípad). }$$<p/>\n",
    "Presvedčte sa o tom, že __pôvodná pravá strana je reálnou časťou tej zmenenej komplexnej.__<br/>\n",
    "Partikulárne riešenie $\\tilde{y}_p(t)$ rovnice so zmenenou pravou stranou $\\tilde{f}(t)$ hľadáme v tvare <p/>\n",
    "$$ \\tilde{y}_{p}(t) = e^{(\\alpha + i \\beta) t} R_s(t)\\, t^k\\ \\mbox{ kde } \\ R_s(t) \n",
    "\\ \\mbox{ je polynóm stupňa } \\ s = \\max(n,m),$$\n",
    "<p/>\n",
    "** $k$ je násobnosť čísla $\\alpha + i \\beta$ ako koreňa charakteristickej rovnice. **\n",
    "<p/>\n",
    "Partikulárne riešenie $y_p(t)$ rovnice s pôvodnou  pravou stranou $f(t)$ nájdeme ako __reálnu časť riešenia $\\tilde{y}_{p}(t) $.__"
   ]
  },
  {
   "cell_type": "code",
   "execution_count": null,
   "metadata": {
    "collapsed": false
   },
   "outputs": [],
   "source": [
    "# Túto bunku treba vždy vykonať najskôr, cez Ctrl-Enter a potom podobne tie dole\n",
    "\n",
    "from sympy import var, init_printing, latex, diff, sin, cos, exp, Function, I, roots\n",
    "from sympy import expand, collect, solve, factor, symbols\n",
    "from neurcite import formulacia, riesenie, skuska, nas_kor, vypis_kor, polycoeffs\n",
    "from IPython.display import HTML\n",
    "init_printing()\n",
    "t=var('t',real=True)\n",
    "y=Function('y')"
   ]
  },
  {
   "cell_type": "markdown",
   "metadata": {},
   "source": [
    "## Vzorový príklad, pravá strana s polynómom a exponenciálou\n",
    "Riešme rovnicu $\\ a_2 y'' + a_1 y' + a_0  y = e^{\\alpha t} P_m(t).$\n",
    "<p/>\n",
    "Môžeme meniť koeficienty rovnice (čísla $a_2, a_1, a_0$) a aj pravú stranu \n",
    "teda číslo $\\alpha$ a koeficienty polynómu $P_m$. <br/>\n",
    "Funguje to aj v prípade $k>0$, tj. keď $\\alpha$ je medzi koreňmi charakteristickej rovnice."
   ]
  },
  {
   "cell_type": "code",
   "execution_count": null,
   "metadata": {
    "collapsed": false
   },
   "outputs": [],
   "source": [
    "a2,a1,a0 = 1,4,5\n",
    "al = -2\n",
    "Pmc = [1,-1,-4,3]      # len toto treba zadat, ostatne sa dopocita\n",
    "m = len(Pmc)           # pocet koeficientov\n",
    "Pm = sum([Pmc[m-1-i]*t**i for i in range(m)])\n",
    "f = exp(al*t)*Pm\n",
    "f   # vypis pravej strany"
   ]
  },
  {
   "cell_type": "code",
   "execution_count": null,
   "metadata": {
    "collapsed": false
   },
   "outputs": [],
   "source": [
    "# vypocet k a korenov char.rovnice\n",
    "drc = [a2,a1,a0]\n",
    "k = nas_kor(al, drc)\n",
    "kor = vypis_kor(drc)"
   ]
  },
  {
   "cell_type": "markdown",
   "metadata": {},
   "source": [
    "Máme $k = $ {{ HTML(latex(k)) }}, pretože korene char. rovnice sú {{ HTML(kor) }} a \n",
    "$\\alpha = $ {{ HTML(latex(al)) }}. \n",
    "<br/>Preto tvar partikulárneho riesenia je:"
   ]
  },
  {
   "cell_type": "code",
   "execution_count": null,
   "metadata": {
    "collapsed": false
   },
   "outputs": [],
   "source": [
    "Rc = list(symbols(\"r:%d\" %m))\n",
    "yp = (t**k)*exp(al*t)*sum([Rc[i]*t**i for i in range(m)])\n",
    "yp"
   ]
  },
  {
   "cell_type": "markdown",
   "metadata": {},
   "source": [
    "Chceme teda riešiť rovnicu {{ HTML(formulacia(drc,al,Pmc)) }}\n",
    "Dosadíme $y_p$ do ľavej strany a vypíšeme si, čo vznikne:"
   ]
  },
  {
   "cell_type": "code",
   "execution_count": null,
   "metadata": {
    "collapsed": false
   },
   "outputs": [],
   "source": [
    "LS = a2*diff(yp,t,2) + a1*diff(yp,t) + a0*yp\n",
    "LS"
   ]
  },
  {
   "cell_type": "markdown",
   "metadata": {},
   "source": [
    "Necháme roznásobiť (expand), potom dáme spolu (collect) výrazy s rovnakými mocninami $t$.<br/> Pokrátime exponenciálou, dostaneme len polynóm. Skontrolujte ručne!"
   ]
  },
  {
   "cell_type": "code",
   "execution_count": null,
   "metadata": {
    "collapsed": false
   },
   "outputs": [],
   "source": [
    "mocniny = [t**i for i in range(1,m)]\n",
    "LS = expand(LS/exp(al*t))\n",
    "LS = collect(LS,mocniny)\n",
    "LS"
   ]
  },
  {
   "cell_type": "markdown",
   "metadata": {},
   "source": [
    "Zistime koeficienty pri mocninách $t$ na ľavej strane a porovnáme s koeficientami pravej strany."
   ]
  },
  {
   "cell_type": "code",
   "execution_count": null,
   "metadata": {
    "collapsed": false
   },
   "outputs": [],
   "source": [
    "c_lava = [LS.subs(t,0)] + [LS.coeff(ti) for ti in mocniny] \n",
    "c_prava = Pmc[::-1]   # teraz od najnizej mocniny treba\n",
    "c_lava,c_prava"
   ]
  },
  {
   "cell_type": "code",
   "execution_count": null,
   "metadata": {
    "collapsed": false
   },
   "outputs": [],
   "source": [
    "rov = [0]*m\n",
    "for i in range(m):\n",
    "   rov[i] = r\"$%s = %s$\" %(latex(c_lava[i]),latex(c_prava[i]))\n",
    "rowstr = '<br/>'.join(rov)"
   ]
  },
  {
   "cell_type": "markdown",
   "metadata": {},
   "source": [
    "Dostávame takéto rovnice:"
   ]
  },
  {
   "cell_type": "markdown",
   "metadata": {},
   "source": [
    "{{ HTML(rowstr) }}"
   ]
  },
  {
   "cell_type": "markdown",
   "metadata": {},
   "source": [
    "Vyriešime ich cez funkciu ```solve``` ktorej sa podhodí zoznam rovníc (v tvare, že niečo sa rovná nule) a zoznam premenných, podľa ktorých to chceme riešiť."
   ]
  },
  {
   "cell_type": "code",
   "execution_count": null,
   "metadata": {
    "collapsed": false
   },
   "outputs": [],
   "source": [
    "r_vypoc = solve([c_lava[i] - c_prava[i] for i in range(m)],Rc)\n",
    "r_vypoc"
   ]
  },
  {
   "cell_type": "markdown",
   "metadata": {},
   "source": [
    "Teraz za každý koeficient dosadíme jeho vypočítanú hodnotu (funkcia ```subs```) a vypíšeme $y_p$.\n",
    "Výpočet u konca."
   ]
  },
  {
   "cell_type": "code",
   "execution_count": null,
   "metadata": {
    "collapsed": false
   },
   "outputs": [],
   "source": [
    "for ra in r_vypoc:\n",
    "    yp = yp.subs(ra,r_vypoc[ra])\n",
    "yp    "
   ]
  },
  {
   "cell_type": "markdown",
   "metadata": {},
   "source": [
    "Patrilo by sa skúšku urobiť, takže tak:"
   ]
  },
  {
   "cell_type": "code",
   "execution_count": null,
   "metadata": {
    "collapsed": false
   },
   "outputs": [],
   "source": [
    "LS = skuska(drc,yp)\n",
    "LS"
   ]
  },
  {
   "cell_type": "code",
   "execution_count": null,
   "metadata": {
    "collapsed": false
   },
   "outputs": [],
   "source": [
    "# Či ľavá a pravá strana sa rovnajú; ak True, je to správne\n",
    "LS == f"
   ]
  },
  {
   "cell_type": "markdown",
   "metadata": {},
   "source": [
    "## Vzorový príklad, pravá strana so sinusmi a kosinusmi\n",
    "Riešme rovnicu $\\ a_2 y'' + a_1 y' + a_0  y = k_1 \\cos \\omega t + k_2 \\sin \\omega t.$\n",
    "<p/>\n",
    "Môžeme meniť koeficienty rovnice (čísla $a_2, a_1, a_0$) a aj pravej strany \n",
    "(čísla $\\omega, k_1, k_2$).  "
   ]
  },
  {
   "cell_type": "code",
   "execution_count": null,
   "metadata": {
    "collapsed": false
   },
   "outputs": [],
   "source": [
    "a2,a1,a0 = 1,0,4\n",
    "omega = 2\n",
    "k1,k2 = -3,2\n",
    "f = k1*cos(omega*t) + k2*sin(omega*t)\n",
    "f   # vypis pravej strany"
   ]
  },
  {
   "cell_type": "markdown",
   "metadata": {},
   "source": [
    "## 1. Riešenie metódou neurčitých koeficientov,  bez prechodu ku komplexnej pravej strane\n",
    "Tvar partikulárneho riešenia $y_p$:"
   ]
  },
  {
   "cell_type": "code",
   "execution_count": null,
   "metadata": {
    "collapsed": true
   },
   "outputs": [],
   "source": [
    "a,b = var(\"a b\")\n",
    "k = 1             # prečo?\n",
    "yp = (t**k)*(a*cos(omega*t) + b*sin(omega*t))"
   ]
  },
  {
   "cell_type": "markdown",
   "metadata": {},
   "source": [
    "Zrozumiteľne napísané, chceme riešiť rovnicu {{ HTML(formulacia([a2,a1,a0],0,[k1],2,[k2])) }}<p/>\n",
    "Dosadíme $y_p$ do ľavej strany a vypíšeme si, čo vznikne:"
   ]
  },
  {
   "cell_type": "code",
   "execution_count": null,
   "metadata": {
    "collapsed": false
   },
   "outputs": [],
   "source": [
    "LS = a2*diff(yp,t,2) + a1*diff(yp,t) + a0*yp\n",
    "LS"
   ]
  },
  {
   "cell_type": "markdown",
   "metadata": {},
   "source": [
    "Necháme roznásobiť (```expand```), potom dáme spolu (```collect```) výrazy so $\\sin \\omega t$ a $\\cos \\omega t$. Skontrolujte ručne!"
   ]
  },
  {
   "cell_type": "code",
   "execution_count": null,
   "metadata": {
    "collapsed": false
   },
   "outputs": [],
   "source": [
    "LS = expand(LS) \n",
    "LS = collect(LS,[cos(omega*t),sin(omega*t)])\n",
    "LS"
   ]
  },
  {
   "cell_type": "markdown",
   "metadata": {},
   "source": [
    "Zistíme koeficienty pri $\\cos \\omega t, \\sin \\omega t$ na ľavej i pravej strane"
   ]
  },
  {
   "cell_type": "code",
   "execution_count": null,
   "metadata": {
    "collapsed": false
   },
   "outputs": [],
   "source": [
    "csl, ssl = LS.coeff(sin(omega*t)),LS.coeff(cos(omega*t))\n",
    "# Podobne s pravou stranou\n",
    "PS = collect(f,[sin(omega*t),cos(omega*t)])\n",
    "csp, ssp = PS.coeff(sin(omega*t)),PS.coeff(cos(omega*t))\n",
    "\n",
    "rovnica1 = r\"$%s = %s$\" %(latex(csl),latex(csp))\n",
    "rovnica2 = r\"$%s = %s$\" %(latex(ssl),latex(ssp))"
   ]
  },
  {
   "cell_type": "markdown",
   "metadata": {},
   "source": [
    "Porovnaním koeficientov pri rovnakých výrazoch dostaneme rovnice: <br/>\n",
    "Porovnanie koeficientov pri $\\sin t$ na ľavej a pravej strane: {{ rovnica1 }}\n",
    "<br/>\n",
    "Porovnanie koeficientov pri $\\cos t$ na ľavej a pravej strane: {{ rovnica2 }}\n",
    "<p/>\n",
    "Vyriešime sústavu, že koeficienty pri rovnakých výrazoch na pravej a ľavej strane sa musia rovnať."
   ]
  },
  {
   "cell_type": "code",
   "execution_count": null,
   "metadata": {
    "collapsed": false,
    "variables": {
     "latex(DR)": "y{\\left (t \\right )} - 4 \\frac{d}{d t} y{\\left (t \\right )} + 4 \\frac{d^{2}}{d t^{2}}  y{\\left (t \\right )}"
    }
   },
   "outputs": [],
   "source": [
    "# mocniny t v rieseni !!!\n",
    "S = solve([csl-csp,ssl-ssp],[a,b])\n",
    "\n",
    "# to dole je vsetko len kvoli krajsiemu vypisu\n",
    "a_v,b_v= S[a],S[b]\n",
    "a_vysl,b_vysl = latex(S[a]), latex(S[b])\n",
    "omstr = latex(omega)\n",
    "tk = \"\" if k==0 else \"t^%d\\left(\" %k\n",
    "tkend = \"\" if k == 0 else \"\\right)\"\n",
    "vypis = r\"Koeficienty: $\\displaystyle{a = %s,\\ b= %s}.$<p/>\\\n",
    "Výsledok: $\\ y_p=\\displaystyle{%s %s \\cos %s t  %s \\sin %s t %s}.$\" %(a_vysl,b_vysl,tk,a_vysl,omstr,b_vysl,omstr,tkend)\n",
    "S"
   ]
  },
  {
   "cell_type": "markdown",
   "metadata": {
    "variables": {
     " vypis ": {}
    }
   },
   "source": [
    "{{ vypis }}\n",
    "<p/>\n",
    "Treba urobiť skúšku, či je to správne riešenie."
   ]
  },
  {
   "cell_type": "code",
   "execution_count": null,
   "metadata": {
    "collapsed": false
   },
   "outputs": [],
   "source": [
    "yp = a_v*t*cos(omega*t) + b_v*t*sin(omega*t)\n",
    "LS = a2*diff(yp,t,2) + a1*diff(yp,t) + a0*yp"
   ]
  },
  {
   "cell_type": "code",
   "execution_count": null,
   "metadata": {
    "collapsed": false
   },
   "outputs": [],
   "source": [
    "pravda = (LS.simplify() == f)\n",
    "prastr = \"Nie je \" if not pravda else \"Je \"\n",
    "Skuska = prastr + \"to správne riešenie.\"\n",
    "LS,f"
   ]
  },
  {
   "cell_type": "markdown",
   "metadata": {
    "variables": {
     " Skuska ": {}
    }
   },
   "source": [
    "{{ Skuska }}"
   ]
  },
  {
   "cell_type": "markdown",
   "metadata": {},
   "source": [
    "## 2. Riešenie metódou neurčitých koeficientov, prechod ku komplexnej pravej strane"
   ]
  },
  {
   "cell_type": "code",
   "execution_count": null,
   "metadata": {
    "collapsed": false
   },
   "outputs": [],
   "source": [
    "a2,a1,a0 = 1,0,4\n",
    "al = 0  # cislo alfa v exponenciale\n",
    "be = 2  # cislo v sinusoch a kosinusoch\n",
    "A = al + I*be\n",
    "Pm,Qn = -3,2\n",
    "f = exp(al*t)*(Pm*cos(be*t) + Qn*sin(be*t))\n",
    "f   # vypis pravej strany"
   ]
  },
  {
   "cell_type": "markdown",
   "metadata": {},
   "source": [
    "Zmenená pravá strana $\\tilde{f}$ v komplexnom tvare bude"
   ]
  },
  {
   "cell_type": "code",
   "execution_count": null,
   "metadata": {
    "collapsed": false
   },
   "outputs": [],
   "source": [
    "fv = exp(A*t)*(Pm -I*Qn)\n",
    "fv"
   ]
  },
  {
   "cell_type": "markdown",
   "metadata": {},
   "source": [
    "Číslo k (násobnosť čísla α ako koreňa char. rovnice) urobí funkcia ```nas_kor``` a korene vypíšeme cez ```vypis_kor```"
   ]
  },
  {
   "cell_type": "code",
   "execution_count": null,
   "metadata": {
    "collapsed": false
   },
   "outputs": [],
   "source": [
    "drc = [a2,a1,a0]\n",
    "k = nas_kor(al + I*be, drc)\n",
    "kor = vypis_kor(drc)"
   ]
  },
  {
   "cell_type": "markdown",
   "metadata": {
    "variables": {
     " HTML(kor) ": {},
     " HTML(latex(al + I*be)) ": {},
     " HTML(latex(k)) ": {}
    }
   },
   "source": [
    "Máme $k = $ {{ HTML(latex(k)) }}, pretože korene char. rovnice sú {{ HTML(kor) }} a \n",
    "$\\alpha + i \\beta = $ {{ HTML(latex(al + I*be)) }}. \n",
    "<br/>Preto tvar partikulárneho riesenia je:"
   ]
  },
  {
   "cell_type": "code",
   "execution_count": null,
   "metadata": {
    "collapsed": false
   },
   "outputs": [],
   "source": [
    "r0 = var('r0')\n",
    "ypv = (t**k)*r0*exp(A*t)\n",
    "ypv"
   ]
  },
  {
   "cell_type": "markdown",
   "metadata": {},
   "source": [
    "Potrebujeme určiť neznámy (komplexný) koeficient $r_0$. Urobíme preto prvú a druhú deriváciu $y_p$ a dosadíme do pôvodnej rovnice. Vypíšeme, čo sme dostali na ľavej strane  a aj zmenenú pravú stranu $\\tilde{f}$."
   ]
  },
  {
   "cell_type": "code",
   "execution_count": null,
   "metadata": {
    "collapsed": false
   },
   "outputs": [],
   "source": [
    "LS = a2*diff(ypv,t,2) + a1*diff(ypv,t) +a0*ypv\n",
    "LS, fv"
   ]
  },
  {
   "cell_type": "code",
   "execution_count": null,
   "metadata": {
    "collapsed": false
   },
   "outputs": [],
   "source": [
    "c_t0, c_t1 = LS.subs(t,0),expand(LS).coeff(t*exp(A*t))\n",
    "# Podobne s pravou stranou\n",
    "\n",
    "c_t0p, c_t1p = fv.subs(t,0),fv.coeff(t*exp(A*t))\n",
    "\n",
    "rovnica1 = r\"$%s = %s$\" %(latex(c_t0),latex(c_t0p))\n",
    "rovnica2 = r\"$%s = %s$\" %(latex(c_t1),latex(c_t1p))"
   ]
  },
  {
   "cell_type": "markdown",
   "metadata": {
    "variables": {
     " rovnica1 ": {},
     " rovnica2 ": {}
    }
   },
   "source": [
    "Porovnaním koeficientov pri rovnakých výrazoch dostaneme rovnice: <br/>\n",
    "Koeficienty pri abs. člene ($t^0$) na ľavej a pravej strane: {{ rovnica1 }}\n",
    "<br/>\n",
    "Koeficienty pri $t^1$ na ľavej a pravej strane: {{ rovnica2 }}\n",
    "<p/>\n",
    "Máme teda jedinú rovnicu, hravo ju vyriešime.<br/>\n",
    "Vyskúšajte, čo by sa stalo, keby ste hore mylne určili $k=0$."
   ]
  },
  {
   "cell_type": "code",
   "execution_count": null,
   "metadata": {
    "collapsed": false
   },
   "outputs": [],
   "source": [
    "r0_vysl, = solve(c_t0-c_t0p,r0)\n",
    "r0_vysl"
   ]
  },
  {
   "cell_type": "markdown",
   "metadata": {},
   "source": [
    "Riešenie $\\tilde{y_p}$ pre zmenenú (komplexnú) pravú stranu $\\tilde{f}$ teda bude (dosadíme vypočítané $r_0$):"
   ]
  },
  {
   "cell_type": "code",
   "execution_count": null,
   "metadata": {
    "collapsed": false
   },
   "outputs": [],
   "source": [
    "ypv = ypv.subs(r0,r0_vysl)\n",
    "ypv"
   ]
  },
  {
   "cell_type": "markdown",
   "metadata": {},
   "source": [
    "Riešenie $y_p$ pre pôvodnú pravú stranu $f$ bude reálnou časťou riešenia $\\tilde{y_p}$.\n",
    "Urobte tú reálnu časť aj ručne!"
   ]
  },
  {
   "cell_type": "code",
   "execution_count": null,
   "metadata": {
    "collapsed": false
   },
   "outputs": [],
   "source": [
    "yp, nieco = ypv.as_real_imag()\n",
    "yp"
   ]
  },
  {
   "cell_type": "code",
   "execution_count": null,
   "metadata": {
    "collapsed": false
   },
   "outputs": [],
   "source": [
    "LS = skuska(drc,yp)\n",
    "vyslo = (LS == f)     # ci lava strana sa rovna pravej\n",
    "LS"
   ]
  },
  {
   "cell_type": "code",
   "execution_count": null,
   "metadata": {
    "collapsed": false,
    "variables": {
     " LS ": "$$2 \\sin{\\left (2 t \\right )} - 3 \\cos{\\left (2 t \\right )}$$"
    }
   },
   "outputs": [],
   "source": [
    "vyslo"
   ]
  }
 ],
 "metadata": {
  "kernelspec": {
   "display_name": "Python 3",
   "language": "python",
   "name": "python3"
  },
  "language_info": {
   "codemirror_mode": {
    "name": "ipython",
    "version": 3
   },
   "file_extension": ".py",
   "mimetype": "text/x-python",
   "name": "python",
   "nbconvert_exporter": "python",
   "pygments_lexer": "ipython3",
   "version": "3.5.1+"
  }
 },
 "nbformat": 4,
 "nbformat_minor": 0
}
