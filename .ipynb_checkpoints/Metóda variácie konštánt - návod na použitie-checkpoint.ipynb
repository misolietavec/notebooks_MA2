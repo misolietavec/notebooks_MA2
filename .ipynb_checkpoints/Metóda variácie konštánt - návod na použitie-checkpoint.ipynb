{
 "cells": [
  {
   "cell_type": "markdown",
   "metadata": {},
   "source": [
    "# Teoretický základ\n",
    "Nech máme lineárnu diferenciálnu rovnicu 2.-ho rádu<p/>\n",
    "$$a_2\\, y''(t) + a_1\\, y'(t) + a_0\\, y(t) = f(t).$$<p/>\n",
    "Predpokladajme, že vieme určiť riešenie $y_0(t)$ príslušnej homogénnej rovnice (t.j. pre $f(t)=0$).<br/> \n",
    "Toto riešenie má vždy tvar<p/>\n",
    "$$ y_0(t) = c_1 y_1(t) + c_2 y_2(t),\\ \n",
    "\\mbox{ kde } y_1(t),y_2(t)\\ \\mbox{ sú lineárne nezávislé funkcie a }\n",
    "c_1,c_2 \\ \\mbox{ sú ľubovoľné konštanty.}$$<p/>\n",
    "Metóda variácie konštant je založená na nádeji, že ak namiesto konštánt $c_1, c_2$ (ktorých grafy sú vodorovné priamky) zoberieme funkcie $c_1(t), c_2(t)$, tak sa nám môže podariť vybrať také, že sa prispôsobia pravej strane.<p/>\n",
    "Predpokladajme teda, že partikulárne riešenie hľadáme v tvare<p/>\n",
    "$$ y_p(t) = c_1(t)\\, y_1(t) + c_2(t)\\, y_2(t).$$<p/>\n",
    "Dá sa ukázať, že derivácie neznámych funkcií $c_1'(t), c_2'(t)$ dostaneme zo sústavy lineárnych rovníc<p/>\n",
    "$$\n",
    "\\left({\n",
    "\\begin{array}{cc}\n",
    "y_1(t) & y_2(t) \\\\\n",
    "y_1'(t) & y_2'(t)\n",
    "\\end{array}\n",
    "}\\right)\n",
    "\\left({\n",
    "\\begin{array}{c}\n",
    "c_1'(t) \\\\\n",
    "c_2'(t)\n",
    "\\end{array}\n",
    "}\\right)=\n",
    "\\left({\n",
    "\\begin{array}{c}\n",
    " 0 \\\\\n",
    "f(t)/a_2\n",
    "\\end{array}\n",
    "}\\right).\n",
    "$$<p/>\n",
    "Po vyriešení tejto sústavy (vylučovacou, sčítacou metódou, či cez determinanty Cramerovým pravidlom) funkcie $c_1(t), c_2(t)$ dostaneme integrovaním, čo býva obyčajne najťažším krokom v tejto metóde\n",
    "<p/>\n",
    "$$ c_1(t) = \\int c_1'(t)\\, dt,\\ \\ c_2(t) = \\int c_2'(t)\\, dt.$$"
   ]
  },
  {
   "cell_type": "code",
   "execution_count": null,
   "metadata": {
    "collapsed": false
   },
   "outputs": [],
   "source": [
    "from sympy import var, init_printing, latex, diff, sin, cos, exp, I, pi, sqrt\n",
    "from sympy import expand, collect, linsolve, Matrix, integrate, factor, Rational\n",
    "from varkonst import formulacia, fund_ries, sucin_na_sucet\n",
    "#riesenie, skuska\n",
    "from IPython.display import HTML\n",
    "init_printing()\n",
    "t = var('t',real=True)"
   ]
  },
  {
   "cell_type": "markdown",
   "metadata": {},
   "source": [
    "## Štandardný učebnicový príklad\n",
    " $\\ \\displaystyle{y'' + 4 y' + 4 y = \\frac{e^{-2 t}}{t^3}}$"
   ]
  },
  {
   "cell_type": "code",
   "execution_count": null,
   "metadata": {
    "collapsed": true
   },
   "outputs": [],
   "source": [
    "drc = [1,4,4]            #koeficienty DR\n",
    "f = exp(-2*t)/t**3       # prava strana"
   ]
  },
  {
   "cell_type": "code",
   "execution_count": null,
   "metadata": {
    "collapsed": false
   },
   "outputs": [],
   "source": [
    "# Fundamentálne riešenia\n",
    "y1,y2 = fund_ries(drc)\n",
    "y1,y2"
   ]
  },
  {
   "cell_type": "code",
   "execution_count": null,
   "metadata": {
    "collapsed": false
   },
   "outputs": [],
   "source": [
    "# Zostavenie a riesenie sustavy linearnych rovnic pre c1'(t), c2'(t)\n",
    "c1d, c2d = var(\"c1d, c2d\")                     # premenne pre derivacie c1(t),c2(t) \n",
    "A = Matrix([[y1,y2],[diff(y1,t),diff(y2,t)]])  # matica sustavy\n",
    "b = Matrix([0,f])                              # prava strana\n",
    "cd, = linsolve((A,b),[c1d,c2d])                # riesenie\n",
    "c1d, c2d = cd\n",
    "c1d, c2d"
   ]
  },
  {
   "cell_type": "code",
   "execution_count": null,
   "metadata": {
    "collapsed": false
   },
   "outputs": [],
   "source": [
    "# Vedeli by sme rucne, ale v zlozitejsich pripadoch treba\n",
    "c1t,c2t = integrate(c1d,t),integrate(c2d,t)\n",
    "c1t,c2t"
   ]
  },
  {
   "cell_type": "code",
   "execution_count": null,
   "metadata": {
    "collapsed": false
   },
   "outputs": [],
   "source": [
    "# Partikularne riesenie, vysledok\n",
    "yp = c1t*y1 + c2t*y2\n",
    "yp"
   ]
  },
  {
   "cell_type": "markdown",
   "metadata": {},
   "source": [
    "## Zapeklitý príklad, ktorý sme vyriešili metódou neurčitých koeficientov"
   ]
  },
  {
   "cell_type": "code",
   "execution_count": null,
   "metadata": {
    "collapsed": false
   },
   "outputs": [],
   "source": [
    "drc = [1,2,4]\n",
    "f = t*cos(t)\n",
    "rovnica = formulacia(drc,f)"
   ]
  },
  {
   "cell_type": "markdown",
   "metadata": {},
   "source": [
    "Riešime teda rovnicu {{ HTML(rovnica) }}"
   ]
  },
  {
   "cell_type": "code",
   "execution_count": null,
   "metadata": {
    "collapsed": false
   },
   "outputs": [],
   "source": [
    "# Fundamentálne riešenia\n",
    "y1,y2 = fund_ries(drc)\n",
    "print(y1,y2)"
   ]
  },
  {
   "cell_type": "code",
   "execution_count": null,
   "metadata": {
    "collapsed": false
   },
   "outputs": [],
   "source": [
    "# Zostavenie a vyriešenie sústavy rovníc pre c1'(t), c2'(t) \n",
    "c1d, c2d = var(\"c1d, c2d\")\n",
    "A = Matrix([[y1,y2],[diff(y1,t),diff(y2,t)]])\n",
    "b = Matrix([0,f])\n",
    "cd, = linsolve((A,b),[c1d,c2d])\n",
    "c1d, c2d = cd\n",
    "c1d, c2d\n"
   ]
  },
  {
   "cell_type": "markdown",
   "metadata": {},
   "source": [
    "Kvôli integrovaniu musíme softvéru pomôcť trochu. Použijeme vzorce, čo u trig. funkcií prevedú súčin na súčet a potom to ešte rozdelíme na dva sčítance. To už zintegruje, po dlhom myslení."
   ]
  },
  {
   "cell_type": "code",
   "execution_count": null,
   "metadata": {
    "collapsed": false
   },
   "outputs": [],
   "source": [
    "c1dn = -t*exp(t)*(sucin_na_sucet(cos,cos,t,sqrt(3)*t))/sqrt(3)\n",
    "c1dn = expand(c1dn)\n",
    "c2dn = -t*exp(t)*(sucin_na_sucet(cos,sin,t,sqrt(3)*t))/sqrt(3)\n",
    "c2dn = expand(c2dn)\n",
    "c1dn, c2dn"
   ]
  },
  {
   "cell_type": "code",
   "execution_count": null,
   "metadata": {
    "collapsed": false
   },
   "outputs": [],
   "source": [
    "c1 = integrate(c1dn,t)\n",
    "c2 = integrate(c2dn,t)\n",
    "yp = (c1*y1 + c2*y2).simplify()\n",
    "yp"
   ]
  },
  {
   "cell_type": "markdown",
   "metadata": {},
   "source": [
    "Veru, nie je toto ľahký život... To sa nepodobá na výsledok, ktorý sme dostali metódou \n",
    "neurčitých koeficientov. Pripomeňme si ho, dajme do premennej ```yp_neurc``` \n",
    "a urobme rozdiel jeho a ```yp```."
   ]
  },
  {
   "cell_type": "code",
   "execution_count": null,
   "metadata": {
    "collapsed": false
   },
   "outputs": [],
   "source": [
    "yp_neurc = (2*t/13 - Rational(14,169))*sin(t) + (3*t/13 - Rational(34,169))*cos(t)\n",
    "rozdiel = yp.factor() - yp_neurc"
   ]
  },
  {
   "cell_type": "markdown",
   "metadata": {},
   "source": [
    "Môžeme dosadzovať do rozdielu za ```t```, čo chceme. Bude sa to veľmi líšiť od nuly?"
   ]
  },
  {
   "cell_type": "code",
   "execution_count": null,
   "metadata": {
    "collapsed": false
   },
   "outputs": [],
   "source": [
    "float(rozdiel.subs(t,-20.34))"
   ]
  },
  {
   "cell_type": "markdown",
   "metadata": {},
   "source": [
    "To nás vedie k myšlienke, že oba riešenia jedno sú. Pokúsime sa to overiť ešte nejako. Združíme rovnaké výrazy."
   ]
  },
  {
   "cell_type": "code",
   "execution_count": null,
   "metadata": {
    "collapsed": false
   },
   "outputs": [],
   "source": [
    "ypc = collect(yp.expand(),[t*sin(t),t*cos(t),sin(t),cos(t)])\n",
    "ypc"
   ]
  },
  {
   "cell_type": "markdown",
   "metadata": {},
   "source": [
    "Ešte je to na figu, ale to v zátvorkách by sa malo dať zjednodušiť."
   ]
  },
  {
   "cell_type": "code",
   "execution_count": null,
   "metadata": {
    "collapsed": false
   },
   "outputs": [],
   "source": [
    "ypc = ypc.simplify()\n",
    "ypc"
   ]
  },
  {
   "cell_type": "markdown",
   "metadata": {},
   "source": [
    "No, to už vyzerá ako to riešenie ```yp_neurc```. Bude ich rozdiel nula?"
   ]
  },
  {
   "cell_type": "code",
   "execution_count": null,
   "metadata": {
    "collapsed": false
   },
   "outputs": [],
   "source": [
    "(ypc - yp_neurc).simplify()"
   ]
  },
  {
   "cell_type": "markdown",
   "metadata": {},
   "source": [
    "__ Poznámka.__ Ako by vyzeralo integrovanie v Sage, to máme v inom notebooku. Nie je to oveľa krajšie. "
   ]
  }
 ],
 "metadata": {
  "kernelspec": {
   "display_name": "Python 3",
   "language": "python",
   "name": "python3"
  },
  "language_info": {
   "codemirror_mode": {
    "name": "ipython",
    "version": 3
   },
   "file_extension": ".py",
   "mimetype": "text/x-python",
   "name": "python",
   "nbconvert_exporter": "python",
   "pygments_lexer": "ipython3",
   "version": "3.5.1+"
  }
 },
 "nbformat": 4,
 "nbformat_minor": 0
}
