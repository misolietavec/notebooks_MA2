{
 "cells": [
  {
   "cell_type": "code",
   "execution_count": null,
   "metadata": {
    "collapsed": false
   },
   "outputs": [],
   "source": [
    "import sympy\n",
    "from sympy import symbols, init_printing, Function, Rational, plot\n",
    "from IPython.display import HTML\n",
    "from ode_lap_discont import params, formulation, solution, explanation, plot_riesenie\n",
    "y,Y = symbols(\"y,Y\", cls=Function)\n",
    "t = symbols(\"t\", positive=True)\n",
    "s = symbols(\"s\")\n",
    "y1,y2 = symbols(\"y_1,y_2\", cls=Function)\n",
    "%matplotlib inline\n",
    "%config InlineBackend.figure_formats=['svg']\n",
    "%config InlineBackend.rc = {\"figure.figsize\":  (6.4,4.8)}\n",
    "init_printing()"
   ]
  },
  {
   "cell_type": "markdown",
   "metadata": {},
   "source": [
    "Generujeme náhodné parametre pre koeficienty lineárnej rovnice druhého rádu, počiatočné podmienky aj pre pravú stranu. Dostaneme takýto príklad:"
   ]
  },
  {
   "cell_type": "code",
   "execution_count": null,
   "metadata": {
    "collapsed": false
   },
   "outputs": [],
   "source": [
    "pars = params(True,continuous=False)                             # realroots, continuous\n",
    "Z = formulation(pars)                                            # formulacia\n",
    "S,t1, t2, f, yt, yder, yder2 =explanation(pars)                  # riesenie"
   ]
  },
  {
   "cell_type": "markdown",
   "metadata": {},
   "source": [
    "{{ HTML(Z) }}\n",
    "<p/>\n",
    "Pravú stranu nakreslíme"
   ]
  },
  {
   "cell_type": "code",
   "execution_count": null,
   "metadata": {
    "collapsed": false
   },
   "outputs": [],
   "source": [
    "plot(f,(t,0,t2+1),sings=[t1,t2],depth=10,xlabel='t',ylabel='f(t)');"
   ]
  },
  {
   "cell_type": "markdown",
   "metadata": {},
   "source": [
    "Vyriešime a riešenie vysvetlíme."
   ]
  },
  {
   "cell_type": "markdown",
   "metadata": {
    "collapsed": false
   },
   "source": [
    "{{ HTML(S) }}"
   ]
  },
  {
   "cell_type": "markdown",
   "metadata": {},
   "source": [
    "Nakreslíme pravú stranu, riešenie, jeho prvú a druhú deriváciu. Riešenie je spojité, hladké. Ak bola pravá strana spojitá, je spojitá a hladká aj derivácia riešenia. Druhá derivácia už hladká nie je."
   ]
  },
  {
   "cell_type": "code",
   "execution_count": null,
   "metadata": {
    "collapsed": false
   },
   "outputs": [],
   "source": [
    "plot_riesenie(t1,t2,yt,yder,yder2)"
   ]
  },
  {
   "cell_type": "code",
   "execution_count": null,
   "metadata": {
    "collapsed": true
   },
   "outputs": [],
   "source": []
  }
 ],
 "metadata": {
  "kernelspec": {
   "display_name": "Python 3",
   "language": "python",
   "name": "python3"
  },
  "language_info": {
   "codemirror_mode": {
    "name": "ipython",
    "version": 3
   },
   "file_extension": ".py",
   "mimetype": "text/x-python",
   "name": "python",
   "nbconvert_exporter": "python",
   "pygments_lexer": "ipython3",
   "version": "3.5.1+"
  }
 },
 "nbformat": 4,
 "nbformat_minor": 0
}
