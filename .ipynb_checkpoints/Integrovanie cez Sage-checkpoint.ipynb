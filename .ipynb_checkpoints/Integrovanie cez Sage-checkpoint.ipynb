{
 "cells": [
  {
   "cell_type": "code",
   "execution_count": 3,
   "metadata": {
    "collapsed": false
   },
   "outputs": [],
   "source": [
    "t=var('t')\n",
    "assume(t, 'real')"
   ]
  },
  {
   "cell_type": "code",
   "execution_count": 11,
   "metadata": {
    "collapsed": false
   },
   "outputs": [],
   "source": [
    "y1, y2 = exp(-t)*sin(sqrt(3)*t), exp(-t)*cos(sqrt(3)*t)\n",
    "c1d,c2d = sqrt(3)*t*exp(t)*cos(t)*cos(sqrt(3)*t)/3, -sqrt(3)*t*exp(t)*sin(sqrt(3)*t)*cos(t)/3"
   ]
  },
  {
   "cell_type": "code",
   "execution_count": 28,
   "metadata": {
    "collapsed": false
   },
   "outputs": [],
   "source": [
    "def sucin_na_sucet(f,g,u,v):\n",
    "    assert(f in (sin,cos)) \n",
    "    assert(g in (sin,cos))\n",
    "    u1, u2 = u-v,u+v\n",
    "    if f==sin and g==sin:\n",
    "        return (cos(u1) - cos(u2))/2\n",
    "    elif f==cos and g==cos:\n",
    "        return (cos(u1) + cos(u2))/2\n",
    "    elif f==sin and g==cos:\n",
    "        return (sin(u1) + sin(u2))/2\n",
    "    else:  # cos, sin\n",
    "        return (sin(u2) - sin(u1))/2"
   ]
  },
  {
   "cell_type": "code",
   "execution_count": 31,
   "metadata": {
    "collapsed": false
   },
   "outputs": [
    {
     "data": {
      "text/html": [
       "<html><script type=\"math/tex; mode=display\">\\newcommand{\\Bold}[1]{\\mathbf{#1}}\\frac{1}{6} \\, \\sqrt{3} t \\cos\\left(\\sqrt{3} t + t\\right) e^{t} + \\frac{1}{6} \\, \\sqrt{3} t \\cos\\left(-\\sqrt{3} t + t\\right) e^{t} -\\frac{1}{6} \\, \\sqrt{3} t e^{t} \\sin\\left(\\sqrt{3} t + t\\right) + \\frac{1}{6} \\, \\sqrt{3} t e^{t} \\sin\\left(-\\sqrt{3} t + t\\right)</script></html>"
      ],
      "text/plain": [
       "1/6*sqrt(3)*t*cos(sqrt(3)*t + t)*e^t + 1/6*sqrt(3)*t*cos(-sqrt(3)*t + t)*e^t -1/6*sqrt(3)*t*e^t*sin(sqrt(3)*t + t) + 1/6*sqrt(3)*t*e^t*sin(-sqrt(3)*t + t)"
      ]
     },
     "metadata": {},
     "output_type": "display_data"
    }
   ],
   "source": [
    "c1dn = t*exp(t)*(sucin_na_sucet(cos,cos,t,sqrt(3)*t))/sqrt(3)\n",
    "c1dn = expand(c1dn)\n",
    "c2dn = -t*exp(t)*(sucin_na_sucet(cos,sin,t,sqrt(3)*t))/sqrt(3)\n",
    "c2dn = expand(c2dn)\n",
    "show(c1dn, c2dn)"
   ]
  },
  {
   "cell_type": "code",
   "execution_count": 41,
   "metadata": {
    "collapsed": false
   },
   "outputs": [],
   "source": [
    "c1 = integrate(c1dn,t)\n",
    "c2 = integrate(c2dn,t)\n",
    "yp = c1*y1 + c2*y2\n",
    "yp = yp.trig_reduce()"
   ]
  },
  {
   "cell_type": "code",
   "execution_count": 42,
   "metadata": {
    "collapsed": false
   },
   "outputs": [
    {
     "data": {
      "text/html": [
       "<html><script type=\"math/tex; mode=display\">\\newcommand{\\Bold}[1]{\\mathbf{#1}}\\frac{1}{169} \\, {\\left(39 \\, t - 34\\right)} \\cos\\left(t\\right) + \\frac{2}{169} \\, {\\left(13 \\, t - 7\\right)} \\sin\\left(t\\right)</script></html>"
      ],
      "text/plain": [
       "1/169*(39*t - 34)*cos(t) + 2/169*(13*t - 7)*sin(t)"
      ]
     },
     "metadata": {},
     "output_type": "display_data"
    }
   ],
   "source": [
    "show(yp)"
   ]
  }
 ],
 "metadata": {
  "kernelspec": {
   "display_name": "Sage 6.9",
   "language": "",
   "name": "sage"
  },
  "language_info": {
   "codemirror_mode": {
    "name": "ipython",
    "version": 2
   },
   "file_extension": ".py",
   "mimetype": "text/x-python",
   "name": "python",
   "nbconvert_exporter": "python",
   "pygments_lexer": "ipython2",
   "version": "2.7.9"
  }
 },
 "nbformat": 4,
 "nbformat_minor": 0
}
