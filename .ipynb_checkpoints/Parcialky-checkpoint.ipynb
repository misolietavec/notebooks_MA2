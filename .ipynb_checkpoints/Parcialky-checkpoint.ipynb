{
 "cells": [
  {
   "cell_type": "code",
   "execution_count": null,
   "metadata": {
    "collapsed": false
   },
   "outputs": [],
   "source": [
    "%autosave 0\n",
    "from plochy_vpy import plot_parcder, plot_smerder, dir_der, plot_totdif, plot_coords, plot_grad\n",
    "from plochy_vpy import plot_xyrov, plot_vertcyl\n",
    "from vpython import scene, canvas, color, vector\n",
    "scene.delete()\n",
    "import autograd.numpy as np"
   ]
  },
  {
   "cell_type": "code",
   "execution_count": null,
   "metadata": {
    "collapsed": false,
    "scrolled": false
   },
   "outputs": [],
   "source": [
    "d=canvas(background=color.gray(0.8),width=800,height=800,center=vector(1,2,1.3),range=2,\n",
    "         up=vector(0,0,1),forward=vector(1,0,0))\n",
    "func1 = lambda x,y: (x**2 + y**2)/5.\n",
    "func2 = lambda x,y: np.sin(np.cos(x**2 - y**2))\n",
    "# plot_parcder(func1,(1.,1.),[-1.5,1.5,-1.5,1.5],horiz=True)\n",
    "# plot_smerder(func1,(1.,2.),(-2,-2),[0.5,1.5,1.5,2.5])\n",
    "plot_grad(func1,(1.,2.),[-0.2,2.2,0.8,3.2])\n"
   ]
  }
 ],
 "metadata": {
  "kernelspec": {
   "display_name": "VPython",
   "language": "python",
   "name": "vpython"
  },
  "language_info": {
   "codemirror_mode": {
    "name": "ipython",
    "version": 3
   },
   "file_extension": ".py",
   "mimetype": "text/x-python",
   "name": "python",
   "nbconvert_exporter": "python",
   "pygments_lexer": "ipython3",
   "version": "3.5.1+"
  },
  "widgets": {
   "state": {},
   "version": "1.0.0"
  }
 },
 "nbformat": 4,
 "nbformat_minor": 0
}
